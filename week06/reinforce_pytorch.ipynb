{
  "cells": [
    {
      "cell_type": "markdown",
      "metadata": {
        "id": "462fc5eYRLFY"
      },
      "source": [
        "# REINFORCE in PyTorch\n",
        "\n",
        "Just like we did before for Q-learning, this time we'll design a PyTorch network to learn `CartPole-v0` via policy gradient (REINFORCE).\n",
        "\n",
        "Most of the code in this notebook is taken from approximate Q-learning, so you'll find it more or less familiar and even simpler."
      ]
    },
    {
      "cell_type": "code",
      "execution_count": 1,
      "metadata": {
        "colab": {
          "base_uri": "https://localhost:8080/"
        },
        "id": "GKvwSbhIRLFZ",
        "outputId": "a4124c1e-9be2-4317-c2f4-5d8b1c80ca4a"
      },
      "outputs": [
        {
          "output_type": "stream",
          "name": "stdout",
          "text": [
            "Selecting previously unselected package libfontenc1:amd64.\n",
            "(Reading database ... 121747 files and directories currently installed.)\n",
            "Preparing to unpack .../0-libfontenc1_1%3a1.1.4-1build3_amd64.deb ...\n",
            "Unpacking libfontenc1:amd64 (1:1.1.4-1build3) ...\n",
            "Selecting previously unselected package libxfont2:amd64.\n",
            "Preparing to unpack .../1-libxfont2_1%3a2.0.5-1build1_amd64.deb ...\n",
            "Unpacking libxfont2:amd64 (1:2.0.5-1build1) ...\n",
            "Selecting previously unselected package libxkbfile1:amd64.\n",
            "Preparing to unpack .../2-libxkbfile1_1%3a1.1.0-1build3_amd64.deb ...\n",
            "Unpacking libxkbfile1:amd64 (1:1.1.0-1build3) ...\n",
            "Selecting previously unselected package x11-xkb-utils.\n",
            "Preparing to unpack .../3-x11-xkb-utils_7.7+5build4_amd64.deb ...\n",
            "Unpacking x11-xkb-utils (7.7+5build4) ...\n",
            "Selecting previously unselected package xfonts-encodings.\n",
            "Preparing to unpack .../4-xfonts-encodings_1%3a1.0.5-0ubuntu2_all.deb ...\n",
            "Unpacking xfonts-encodings (1:1.0.5-0ubuntu2) ...\n",
            "Selecting previously unselected package xfonts-utils.\n",
            "Preparing to unpack .../5-xfonts-utils_1%3a7.7+6build2_amd64.deb ...\n",
            "Unpacking xfonts-utils (1:7.7+6build2) ...\n",
            "Selecting previously unselected package xfonts-base.\n",
            "Preparing to unpack .../6-xfonts-base_1%3a1.0.5_all.deb ...\n",
            "Unpacking xfonts-base (1:1.0.5) ...\n",
            "Selecting previously unselected package xserver-common.\n",
            "Preparing to unpack .../7-xserver-common_2%3a21.1.4-2ubuntu1.7~22.04.8_all.deb ...\n",
            "Unpacking xserver-common (2:21.1.4-2ubuntu1.7~22.04.8) ...\n",
            "Selecting previously unselected package xvfb.\n",
            "Preparing to unpack .../8-xvfb_2%3a21.1.4-2ubuntu1.7~22.04.8_amd64.deb ...\n",
            "Unpacking xvfb (2:21.1.4-2ubuntu1.7~22.04.8) ...\n",
            "Setting up libfontenc1:amd64 (1:1.1.4-1build3) ...\n",
            "Setting up xfonts-encodings (1:1.0.5-0ubuntu2) ...\n",
            "Setting up libxkbfile1:amd64 (1:1.1.0-1build3) ...\n",
            "Setting up libxfont2:amd64 (1:2.0.5-1build1) ...\n",
            "Setting up x11-xkb-utils (7.7+5build4) ...\n",
            "Setting up xfonts-utils (1:7.7+6build2) ...\n",
            "Setting up xfonts-base (1:1.0.5) ...\n",
            "Setting up xserver-common (2:21.1.4-2ubuntu1.7~22.04.8) ...\n",
            "Setting up xvfb (2:21.1.4-2ubuntu1.7~22.04.8) ...\n",
            "Processing triggers for man-db (2.10.2-1) ...\n",
            "Processing triggers for fontconfig (2.13.1-4.2ubuntu5) ...\n",
            "Processing triggers for libc-bin (2.35-0ubuntu3.4) ...\n",
            "/sbin/ldconfig.real: /usr/local/lib/libtbbbind_2_0.so.3 is not a symbolic link\n",
            "\n",
            "/sbin/ldconfig.real: /usr/local/lib/libtbbbind_2_5.so.3 is not a symbolic link\n",
            "\n",
            "/sbin/ldconfig.real: /usr/local/lib/libtbbmalloc.so.2 is not a symbolic link\n",
            "\n",
            "/sbin/ldconfig.real: /usr/local/lib/libtbb.so.12 is not a symbolic link\n",
            "\n",
            "/sbin/ldconfig.real: /usr/local/lib/libtbbbind.so.3 is not a symbolic link\n",
            "\n",
            "/sbin/ldconfig.real: /usr/local/lib/libtbbmalloc_proxy.so.2 is not a symbolic link\n",
            "\n",
            "\u001b[2K     \u001b[90m━━━━━━━━━━━━━━━━━━━━━━━━━━━━━━━━━━━━━━━━\u001b[0m \u001b[32m953.9/953.9 kB\u001b[0m \u001b[31m6.6 MB/s\u001b[0m eta \u001b[36m0:00:00\u001b[0m\n",
            "\u001b[?25hRequirement already satisfied: moviepy in /usr/local/lib/python3.10/dist-packages (1.0.3)\n",
            "Requirement already satisfied: decorator<5.0,>=4.0.2 in /usr/local/lib/python3.10/dist-packages (from moviepy) (4.4.2)\n",
            "Requirement already satisfied: tqdm<5.0,>=4.11.2 in /usr/local/lib/python3.10/dist-packages (from moviepy) (4.66.1)\n",
            "Requirement already satisfied: requests<3.0,>=2.8.1 in /usr/local/lib/python3.10/dist-packages (from moviepy) (2.31.0)\n",
            "Requirement already satisfied: proglog<=1.0.0 in /usr/local/lib/python3.10/dist-packages (from moviepy) (0.1.10)\n",
            "Requirement already satisfied: numpy>=1.17.3 in /usr/local/lib/python3.10/dist-packages (from moviepy) (1.23.5)\n",
            "Requirement already satisfied: imageio<3.0,>=2.5 in /usr/local/lib/python3.10/dist-packages (from moviepy) (2.31.6)\n",
            "Requirement already satisfied: imageio-ffmpeg>=0.2.0 in /usr/local/lib/python3.10/dist-packages (from moviepy) (0.4.9)\n",
            "Requirement already satisfied: pillow<10.1.0,>=8.3.2 in /usr/local/lib/python3.10/dist-packages (from imageio<3.0,>=2.5->moviepy) (9.4.0)\n",
            "Requirement already satisfied: setuptools in /usr/local/lib/python3.10/dist-packages (from imageio-ffmpeg>=0.2.0->moviepy) (67.7.2)\n",
            "Requirement already satisfied: charset-normalizer<4,>=2 in /usr/local/lib/python3.10/dist-packages (from requests<3.0,>=2.8.1->moviepy) (3.3.2)\n",
            "Requirement already satisfied: idna<4,>=2.5 in /usr/local/lib/python3.10/dist-packages (from requests<3.0,>=2.8.1->moviepy) (3.6)\n",
            "Requirement already satisfied: urllib3<3,>=1.21.1 in /usr/local/lib/python3.10/dist-packages (from requests<3.0,>=2.8.1->moviepy) (2.0.7)\n",
            "Requirement already satisfied: certifi>=2017.4.17 in /usr/local/lib/python3.10/dist-packages (from requests<3.0,>=2.8.1->moviepy) (2024.2.2)\n",
            "Reading package lists... Done\n",
            "Building dependency tree... Done\n",
            "Reading state information... Done\n",
            "ffmpeg is already the newest version (7:4.4.2-0ubuntu0.22.04.1).\n",
            "0 upgraded, 0 newly installed, 0 to remove and 32 not upgraded.\n",
            "Requirement already satisfied: imageio-ffmpeg in /usr/local/lib/python3.10/dist-packages (0.4.9)\n",
            "Requirement already satisfied: setuptools in /usr/local/lib/python3.10/dist-packages (from imageio-ffmpeg) (67.7.2)\n",
            "Starting virtual X frame buffer: Xvfb.\n"
          ]
        }
      ],
      "source": [
        "import sys, os\n",
        "if 'google.colab' in sys.modules and not os.path.exists('.setup_complete'):\n",
        "    !wget -q https://raw.githubusercontent.com/yandexdataschool/Practical_RL/master/setup_colab.sh -O- | bash\n",
        "    !pip install -q gymnasium\n",
        "    !pip install moviepy\n",
        "    !apt install ffmpeg\n",
        "    !pip install imageio-ffmpeg\n",
        "    !touch .setup_complete\n",
        "\n",
        "# This code creates a virtual display to draw game images on.\n",
        "# It will have no effect if your machine has a monitor.\n",
        "if type(os.environ.get(\"DISPLAY\")) is not str or len(os.environ.get(\"DISPLAY\")) == 0:\n",
        "    !bash ../xvfb start\n",
        "    os.environ['DISPLAY'] = ':1'"
      ]
    },
    {
      "cell_type": "code",
      "execution_count": 2,
      "metadata": {
        "id": "aF3PQdWxRLFa"
      },
      "outputs": [],
      "source": [
        "import gymnasium as gym\n",
        "import numpy as np\n",
        "import matplotlib.pyplot as plt\n",
        "%matplotlib inline"
      ]
    },
    {
      "cell_type": "code",
      "execution_count": 3,
      "metadata": {
        "id": "_SaYNXWJRLFa"
      },
      "outputs": [],
      "source": [
        "# also you need to install ffmpeg if not installed\n",
        "# for MacOS: ! brew install ffmpeg"
      ]
    },
    {
      "cell_type": "markdown",
      "metadata": {
        "id": "4NwvcjjbRLFa"
      },
      "source": [
        "A caveat: with some versions of `pyglet`, the following cell may crash with `NameError: name 'base' is not defined`. The corresponding bug report is [here](https://github.com/pyglet/pyglet/issues/134). If you see this error, try restarting the kernel."
      ]
    },
    {
      "cell_type": "code",
      "execution_count": 5,
      "metadata": {
        "colab": {
          "base_uri": "https://localhost:8080/",
          "height": 396
        },
        "id": "pwAMws7lRLFa",
        "outputId": "75d323b4-2886-4dca-b2da-f41dbbd804fc"
      },
      "outputs": [
        {
          "output_type": "display_data",
          "data": {
            "text/plain": [
              "<Figure size 640x480 with 1 Axes>"
            ],
            "image/png": "[encoded data removed]"
          },
          "metadata": {}
        }
      ],
      "source": [
        "env = gym.make(\"CartPole-v1\", render_mode=\"rgb_array\")\n",
        "\n",
        "# gym compatibility: unwrap TimeLimit\n",
        "if hasattr(env, '_max_episode_steps'):\n",
        "    env = env.env\n",
        "\n",
        "env.reset()\n",
        "n_actions = env.action_space.n\n",
        "state_dim = env.observation_space.shape\n",
        "\n",
        "plt.imshow(env.render())\n",
        "plt.show()"
      ]
    },
    {
      "cell_type": "markdown",
      "metadata": {
        "id": "shDCFyYERLFa"
      },
      "source": [
        "# Building the network for REINFORCE"
      ]
    },
    {
      "cell_type": "markdown",
      "metadata": {
        "id": "uJzKFcxTRLFa"
      },
      "source": [
        "For REINFORCE algorithm, we'll need a model that predicts action probabilities given states.\n",
        "\n",
        "For numerical stability, please __do not include the softmax layer into your network architecture__.\n",
        "We'll use softmax or log-softmax where appropriate."
      ]
    },
    {
      "cell_type": "code",
      "execution_count": 6,
      "metadata": {
        "id": "UuQ_Q_uvRLFb"
      },
      "outputs": [],
      "source": [
        "import torch\n",
        "import torch.nn as nn\n",
        "import torch.nn.functional as F"
      ]
    },
    {
      "cell_type": "code",
      "execution_count": 72,
      "metadata": {
        "id": "eUBBmhOzRLFb"
      },
      "outputs": [],
      "source": [
        "# Build a simple neural network that predicts policy logits.\n",
        "# Keep it simple: CartPole isn't worth deep architectures.\n",
        "model = nn.Sequential(\n",
        "  nn.Linear(state_dim[0], 128),\n",
        "  nn.LeakyReLU(),\n",
        "  nn.Linear(128, n_actions),\n",
        ")"
      ]
    },
    {
      "cell_type": "markdown",
      "metadata": {
        "id": "-LqxyMcCRLFb"
      },
      "source": [
        "#### Predict function"
      ]
    },
    {
      "cell_type": "markdown",
      "metadata": {
        "id": "u3KqSjySRLFb"
      },
      "source": [
        "Note: output value of this function is not a torch tensor, it's a numpy array.\n",
        "So, here gradient calculation is not needed.\n",
        "<br>\n",
        "Use [no_grad](https://pytorch.org/docs/stable/autograd.html#torch.autograd.no_grad)\n",
        "to suppress gradient calculation.\n",
        "<br>\n",
        "Also, `.detach()` (or legacy `.data` property) can be used instead, but there is a difference:\n",
        "<br>\n",
        "With `.detach()` computational graph is built but then disconnected from a particular tensor,\n",
        "so `.detach()` should be used if that graph is needed for backprop via some other (not detached) tensor;\n",
        "<br>\n",
        "In contrast, no graph is built by any operation in `no_grad()` context, thus it's preferable here."
      ]
    },
    {
      "cell_type": "code",
      "execution_count": 33,
      "metadata": {
        "id": "uEGFOYi8RLFb"
      },
      "outputs": [],
      "source": [
        "def predict_probs(states):\n",
        "    \"\"\"\n",
        "    Predict action probabilities given states.\n",
        "    :param states: numpy array of shape [batch, state_shape]\n",
        "    :returns: numpy array of shape [batch, n_actions]\n",
        "    \"\"\"\n",
        "    # convert states, compute logits, use softmax to get probability\n",
        "    states = torch.tensor(states, dtype=torch.float, requires_grad=False)\n",
        "    return F.softmax(model.forward(states), dim=1).detach().numpy()"
      ]
    },
    {
      "cell_type": "code",
      "execution_count": 34,
      "metadata": {
        "id": "myk1xT7gRLFb"
      },
      "outputs": [],
      "source": [
        "test_states = np.array([env.reset()[0] for _ in range(5)])\n",
        "test_probas = predict_probs(test_states)\n",
        "assert isinstance(test_probas, np.ndarray), \\\n",
        "    \"you must return np array and not %s\" % type(test_probas)\n",
        "assert tuple(test_probas.shape) == (test_states.shape[0], env.action_space.n), \\\n",
        "    \"wrong output shape: %s\" % np.shape(test_probas)\n",
        "assert np.allclose(np.sum(test_probas, axis=1), 1), \"probabilities do not sum to 1\""
      ]
    },
    {
      "cell_type": "markdown",
      "metadata": {
        "id": "7ZXKN-PhRLFb"
      },
      "source": [
        "### Play the game\n",
        "\n",
        "We can now use our newly built agent to play the game."
      ]
    },
    {
      "cell_type": "code",
      "execution_count": 35,
      "metadata": {
        "id": "UxF9pjbXRLFb"
      },
      "outputs": [],
      "source": [
        "def generate_session(env, t_max=1000):\n",
        "    \"\"\"\n",
        "    Play a full session with REINFORCE agent.\n",
        "    Returns sequences of states, actions, and rewards.\n",
        "    \"\"\"\n",
        "    # arrays to record session\n",
        "    states, actions, rewards = [], [], []\n",
        "\n",
        "    s = env.reset()[0]\n",
        "\n",
        "    for t in range(t_max):\n",
        "        # action probabilities array aka pi(a|s)\n",
        "        action_probs = predict_probs(np.array([s]))[0]\n",
        "\n",
        "        # Sample action with given probabilities.\n",
        "        a = np.random.choice(n_actions, p=action_probs)\n",
        "\n",
        "        new_s, r, terminated, truncated, info = env.step(a)\n",
        "\n",
        "        # record session history to train later\n",
        "        states.append(s)\n",
        "        actions.append(a)\n",
        "        rewards.append(r)\n",
        "\n",
        "        s = new_s\n",
        "        if terminated or truncated:\n",
        "            break\n",
        "\n",
        "    return states, actions, rewards"
      ]
    },
    {
      "cell_type": "code",
      "execution_count": 36,
      "metadata": {
        "id": "TV6bfPYBRLFc"
      },
      "outputs": [],
      "source": [
        "# test it\n",
        "states, actions, rewards = generate_session(env)"
      ]
    },
    {
      "cell_type": "markdown",
      "metadata": {
        "id": "xYREjfRNRLFc"
      },
      "source": [
        "### Computing cumulative rewards\n",
        "\n",
        "$$\n",
        "\\begin{align*}\n",
        "G_t &= r_t + \\gamma r_{t + 1} + \\gamma^2 r_{t + 2} + \\ldots \\\\\n",
        "&= \\sum_{i = t}^T \\gamma^{i - t} r_i \\\\\n",
        "&= r_t + \\gamma * G_{t + 1}\n",
        "\\end{align*}\n",
        "$$"
      ]
    },
    {
      "cell_type": "code",
      "execution_count": 62,
      "metadata": {
        "id": "VzbeIGxuRLFc"
      },
      "outputs": [],
      "source": [
        "def get_cumulative_rewards(rewards,  # rewards at each step\n",
        "                           gamma=0.99  # discount for reward\n",
        "                           ):\n",
        "    \"\"\"\n",
        "    Take a list of immediate rewards r(s,a) for the whole session\n",
        "    and compute cumulative returns (a.k.a. G(s,a) in Sutton '16).\n",
        "\n",
        "    G_t = r_t + gamma*r_{t+1} + gamma^2*r_{t+2} + ...\n",
        "\n",
        "    A simple way to compute cumulative rewards is to iterate from the last\n",
        "    to the first timestep and compute G_t = r_t + gamma*G_{t+1} recurrently\n",
        "\n",
        "    You must return an array/list of cumulative rewards with as many elements as in the initial rewards.\n",
        "    \"\"\"\n",
        "\n",
        "    cum_rewards = np.array([], dtype=np.float64)\n",
        "\n",
        "    for i, r in enumerate(reversed(rewards)):\n",
        "      G = r + gamma * cum_rewards[0] if i != 0 else r\n",
        "      cum_rewards = np.insert(cum_rewards, 0, G)\n",
        "    return cum_rewards"
      ]
    },
    {
      "cell_type": "code",
      "execution_count": 64,
      "metadata": {
        "colab": {
          "base_uri": "https://localhost:8080/"
        },
        "id": "8514p3y4RLFc",
        "outputId": "61a69705-7358-4b48-dea0-6a4241d70856"
      },
      "outputs": [
        {
          "output_type": "stream",
          "name": "stdout",
          "text": [
            "looks good!\n"
          ]
        }
      ],
      "source": [
        "get_cumulative_rewards(rewards)\n",
        "assert len(get_cumulative_rewards(list(range(100)))) == 100\n",
        "assert np.allclose(\n",
        "    get_cumulative_rewards([0, 0, 1, 0, 0, 1, 0], gamma=0.9),\n",
        "    [1.40049, 1.5561, 1.729, 0.81, 0.9, 1.0, 0.0])\n",
        "assert np.allclose(\n",
        "    get_cumulative_rewards([0, 0, 1, -2, 3, -4, 0], gamma=0.5),\n",
        "    [0.0625, 0.125, 0.25, -1.5, 1.0, -4.0, 0.0])\n",
        "assert np.allclose(\n",
        "    get_cumulative_rewards([0, 0, 1, 2, 3, 4, 0], gamma=0),\n",
        "    [0, 0, 1, 2, 3, 4, 0])\n",
        "print(\"looks good!\")"
      ]
    },
    {
      "cell_type": "markdown",
      "metadata": {
        "id": "xU6I7iDgRLFc"
      },
      "source": [
        "#### Loss function and updates\n",
        "\n",
        "We now need to define objective and update over policy gradient.\n",
        "\n",
        "Our objective function is\n",
        "\n",
        "$$ J \\approx  { 1 \\over N } \\sum_{s_i,a_i} G(s_i,a_i) $$\n",
        "\n",
        "REINFORCE defines a way to compute the gradient of the expected reward with respect to policy parameters. The formula is as follows:\n",
        "\n",
        "$$ \\nabla_\\theta \\hat J(\\theta) \\approx { 1 \\over N } \\sum_{s_i, a_i} \\nabla_\\theta \\log \\pi_\\theta (a_i \\mid s_i) \\cdot G_t(s_i, a_i) $$\n",
        "\n",
        "We can abuse PyTorch's capabilities for automatic differentiation by defining our objective function as follows:\n",
        "\n",
        "$$ \\hat J(\\theta) \\approx { 1 \\over N } \\sum_{s_i, a_i} \\log \\pi_\\theta (a_i \\mid s_i) \\cdot G_t(s_i, a_i) $$\n",
        "\n",
        "When you compute the gradient of that function with respect to network weights $\\theta$, it will become exactly the policy gradient."
      ]
    },
    {
      "cell_type": "code",
      "execution_count": 73,
      "metadata": {
        "id": "CIm2-rLZRLFc"
      },
      "outputs": [],
      "source": [
        "# Your code: define optimizers\n",
        "optimizer = torch.optim.Adam(model.parameters(), 3e-4)\n",
        "\n",
        "\n",
        "def train_on_session(states, actions, rewards, gamma=0.99, entropy_coef=1e-2):\n",
        "    \"\"\"\n",
        "    Takes a sequence of states, actions and rewards produced by generate_session.\n",
        "    Updates agent's weights by following the policy gradient above.\n",
        "    Please use Adam optimizer with default parameters.\n",
        "    \"\"\"\n",
        "\n",
        "    # cast everything into torch tensors\n",
        "    states = torch.tensor(states, dtype=torch.float32)\n",
        "    actions = torch.tensor(actions, dtype=torch.int64)\n",
        "    cumulative_returns = np.array(get_cumulative_rewards(rewards, gamma))\n",
        "    cumulative_returns = torch.tensor(cumulative_returns, dtype=torch.float32)\n",
        "\n",
        "    # predict logits, probas and log-probas using an agent.\n",
        "    logits = model(states)\n",
        "    probs = nn.functional.softmax(logits, -1)\n",
        "    log_probs = nn.functional.log_softmax(logits, -1)\n",
        "\n",
        "    assert all(isinstance(v, torch.Tensor) for v in [logits, probs, log_probs]), \\\n",
        "        \"please use compute using torch tensors and don't use predict_probs function\"\n",
        "\n",
        "    # select log-probabilities for chosen actions, log pi(a_i|s_i)\n",
        "    log_probs_for_actions = torch.sum(\n",
        "        log_probs * F.one_hot(actions, env.action_space.n), dim=1)\n",
        "\n",
        "    # Compute loss here. Don't forgen entropy regularization with `entropy_coef`\n",
        "    J = (log_probs_for_actions * cumulative_returns).mean()\n",
        "    entropy = (probs * log_probs).sum(-1).mean()\n",
        "    loss = - J - entropy_coef * entropy\n",
        "\n",
        "    # Gradient descent step\n",
        "    loss.backward()\n",
        "    optimizer.step()\n",
        "    optimizer.zero_grad()\n",
        "\n",
        "    # technical: return session rewards to print them later\n",
        "    return np.sum(rewards)"
      ]
    },
    {
      "cell_type": "markdown",
      "metadata": {
        "id": "Uxm2MUsgRLFc"
      },
      "source": [
        "### The actual training"
      ]
    },
    {
      "cell_type": "code",
      "execution_count": 74,
      "metadata": {
        "colab": {
          "base_uri": "https://localhost:8080/"
        },
        "id": "feOct--jRLFd",
        "outputId": "cd556951-f48e-43a0-abd2-41541af7aa8f"
      },
      "outputs": [
        {
          "output_type": "stream",
          "name": "stdout",
          "text": [
            "mean reward: 28.790\n",
            "mean reward: 36.150\n",
            "mean reward: 32.780\n",
            "mean reward: 38.120\n",
            "mean reward: 43.840\n",
            "mean reward: 52.480\n",
            "mean reward: 56.700\n",
            "mean reward: 72.780\n",
            "mean reward: 71.150\n",
            "mean reward: 93.290\n",
            "mean reward: 96.090\n",
            "mean reward: 105.170\n",
            "mean reward: 161.050\n",
            "mean reward: 144.040\n",
            "mean reward: 163.300\n",
            "mean reward: 204.070\n",
            "mean reward: 205.120\n",
            "mean reward: 219.200\n",
            "mean reward: 220.660\n",
            "mean reward: 226.380\n"
          ]
        }
      ],
      "source": [
        "epochs = 20\n",
        "for i in range(epochs):\n",
        "    rewards = [train_on_session(*generate_session(env)) for _ in range(100)]  # generate new sessions\n",
        "\n",
        "    print(\"mean reward: %.3f\" % (np.mean(rewards)))\n",
        "\n",
        "    if np.mean(rewards) > 500:\n",
        "        print(\"You Win!\")  # but you can train even further\n",
        "        break"
      ]
    },
    {
      "cell_type": "markdown",
      "metadata": {
        "id": "GakkcYYNRLFd"
      },
      "source": [
        "### Results & video"
      ]
    },
    {
      "cell_type": "code",
      "execution_count": 75,
      "metadata": {
        "colab": {
          "base_uri": "https://localhost:8080/"
        },
        "id": "Fltle8jERLFd",
        "outputId": "7bd5cd7f-11f4-4583-c65d-6b7a0bb519d5"
      },
      "outputs": [
        {
          "output_type": "stream",
          "name": "stdout",
          "text": [
            "Moviepy - Building video /content/videos/rl-video-episode-0.mp4.\n",
            "Moviepy - Writing video /content/videos/rl-video-episode-0.mp4\n",
            "\n"
          ]
        },
        {
          "output_type": "stream",
          "name": "stderr",
          "text": []
        },
        {
          "output_type": "stream",
          "name": "stdout",
          "text": [
            "Moviepy - Done !\n",
            "Moviepy - video ready /content/videos/rl-video-episode-0.mp4\n",
            "Moviepy - Building video /content/videos/rl-video-episode-1.mp4.\n",
            "Moviepy - Writing video /content/videos/rl-video-episode-1.mp4\n",
            "\n"
          ]
        },
        {
          "output_type": "stream",
          "name": "stderr",
          "text": []
        },
        {
          "output_type": "stream",
          "name": "stdout",
          "text": [
            "Moviepy - Done !\n",
            "Moviepy - video ready /content/videos/rl-video-episode-1.mp4\n",
            "Moviepy - Building video /content/videos/rl-video-episode-8.mp4.\n",
            "Moviepy - Writing video /content/videos/rl-video-episode-8.mp4\n",
            "\n"
          ]
        },
        {
          "output_type": "stream",
          "name": "stderr",
          "text": []
        },
        {
          "output_type": "stream",
          "name": "stdout",
          "text": [
            "Moviepy - Done !\n",
            "Moviepy - video ready /content/videos/rl-video-episode-8.mp4\n"
          ]
        }
      ],
      "source": [
        "# Record sessions\n",
        "\n",
        "from gymnasium.wrappers import RecordVideo\n",
        "\n",
        "with gym.make(\"CartPole-v1\", render_mode=\"rgb_array\") as env, RecordVideo(\n",
        "    env=env, video_folder=\"./videos\"\n",
        ") as env_monitor:\n",
        "    sessions = [generate_session(env_monitor) for _ in range(10)]\n"
      ]
    },
    {
      "cell_type": "code",
      "execution_count": 76,
      "metadata": {
        "colab": {
          "base_uri": "https://localhost:8080/",
          "height": 502
        },
        "id": "IgSrsAB8RLFd",
        "outputId": "763e5e30-6eab-411e-a5b1-b6530f055588"
      },
      "outputs": [
        {
          "output_type": "execute_result",
          "data": {
            "text/plain": [
              "<IPython.core.display.HTML object>"
            ],
            "text/html": [
              "\n",
              "<video width=\"640\" height=\"480\" controls>\n",
              "  <source src=\"data:video/mp4;base64,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\" type=\"video/mp4\">\n",
              "</video>\n"
            ]
          },
          "metadata": {},
          "execution_count": 76
        }
      ],
      "source": [
        "# Show video. This may not work in some setups. If it doesn't\n",
        "# work for you, you can download the videos and view them locally.\n",
        "\n",
        "from pathlib import Path\n",
        "from base64 import b64encode\n",
        "from IPython.display import HTML\n",
        "\n",
        "video_paths = sorted([s for s in Path('videos').iterdir() if s.suffix == '.mp4'])\n",
        "video_path = video_paths[-1]  # You can also try other indices\n",
        "\n",
        "if 'google.colab' in sys.modules:\n",
        "    # https://stackoverflow.com/a/57378660/1214547\n",
        "    with video_path.open('rb') as fp:\n",
        "        mp4 = fp.read()\n",
        "    data_url = 'data:video/mp4;base64,' + b64encode(mp4).decode()\n",
        "else:\n",
        "    data_url = str(video_path)\n",
        "\n",
        "HTML(\"\"\"\n",
        "<video width=\"640\" height=\"480\" controls>\n",
        "  <source src=\"{}\" type=\"video/mp4\">\n",
        "</video>\n",
        "\"\"\".format(data_url))"
      ]
    }
  ],
  "metadata": {
    "kernelspec": {
      "display_name": "Python 3 (ipykernel)",
      "language": "python",
      "name": "python3"
    },
    "language_info": {
      "codemirror_mode": {
        "name": "ipython",
        "version": 3
      },
      "file_extension": ".py",
      "mimetype": "text/x-python",
      "name": "python",
      "nbconvert_exporter": "python",
      "pygments_lexer": "ipython3",
      "version": "3.9.16"
    },
    "colab": {
      "provenance": []
    }
  },
  "nbformat": 4,
  "nbformat_minor": 0
}