{
  "cells": [
    {
      "cell_type": "markdown",
      "metadata": {
        "id": "DJG8ZiRTP-ZN"
      },
      "source": [
        "## Seminar: Monte-carlo tree search (5 pts)\n",
        "\n",
        "Monte Carlo tree search (MCTS) is a heuristic search algorithm, which shows cool results in challenging domains such as Go and chess. The algorithm builds a search tree, iteratively traverses it, and evaluates its nodes using a Monte-Carlo simulation.\n",
        "\n",
        "In this seminar, we'll implement a MCTS([[1]](#1), [[2]](#2)) planning and use it to solve some Gym envs.\n",
        "\n",
        "![image.png](https://i.postimg.cc/6QmwnjPS/image.png)"
      ]
    },
    {
      "cell_type": "markdown",
      "metadata": {
        "id": "uEinmW6wP-ZP"
      },
      "source": [
        "__How it works?__\n",
        "We just start with an empty tree and expand it. There are several common procedures.\n",
        "\n",
        "__1) Selection__\n",
        "Starting from the root, recursively select the node that corresponds to the tree policy.  \n",
        "\n",
        "There are several options for tree policies, which we saw earlier as exploration strategies: epsilon-greedy, Thomson sampling, UCB-1. It was shown that in MCTS, UCB-1 achieves a good result. Further, we will consider the one, but you can try to use others.\n",
        "\n",
        "Following the UCB-1 tree policy, we will choose an action that, on one hand, we expect to have the highest return, and on the other hand, we haven't explored much.\n",
        "\n",
        "$$\n",
        "\\DeclareMathOperator*{\\argmax}{arg\\,max}\n",
        "$$\n",
        "\n",
        "$$\n",
        "\\dot{a} = \\argmax_{a} \\dot{Q}(s, a)\n",
        "$$\n",
        "\n",
        "$$\n",
        "\\dot{Q}(s, a) = Q(s, a) + C_p \\sqrt{\\frac{2 \\log {N}}{n_a}}\n",
        "$$\n",
        "\n",
        "where:\n",
        "- $N$ - number of times we have visited state $s$,\n",
        "- $n_a$ - number of times we have taken action $a$,\n",
        "- $C_p$ - exploration balance parameter, which is performed between exploration and exploitation.\n",
        "\n",
        "Using Hoeffding inequality for rewards $R \\in [0,1]$ it can be shown [[3]](#3) that optimal $C_p = 1/\\sqrt{2}$. For rewards outside this range, the parameter should be tuned. We'll be using 10, but you can experiment with other values.\n",
        "\n",
        "__2) Expansion__\n",
        "After the selection procedure, we can achieve a leaf node or node in which we don't complete actions. In this case, we expand the tree by feasible actions and get new state nodes.\n",
        "\n",
        "__3) Simulation__\n",
        "How we can estimate node Q-values? The idea is to estimate action values for a given _rollout policy_ by averaging the return of many simulated trajectories from the current node. Simply, we can play with random or some special policy or use some model that can estimate it.\n",
        "\n",
        "__4) Backpropagation__\n",
        "The reward of the last simulation is backed up through the traversed nodes and propagates Q-value estimations, upwards to the root.\n",
        "\n",
        "$$\n",
        "Q({\\text{parent}}, a) = r + \\gamma \\cdot Q({\\text{child}}, a)\n",
        "$$\n",
        "\n",
        "There are a lot modifications of MCTS, more details about it you can find in this paper [[4]](#4)"
      ]
    },
    {
      "cell_type": "code",
      "execution_count": 1,
      "metadata": {
        "colab": {
          "base_uri": "https://localhost:8080/"
        },
        "id": "6XqoJnITP-ZP",
        "outputId": "ddf1c508-efdb-412a-877b-b854ab581acb"
      },
      "outputs": [
        {
          "output_type": "stream",
          "name": "stdout",
          "text": [
            "Selecting previously unselected package libfontenc1:amd64.\n",
            "(Reading database ... 121752 files and directories currently installed.)\n",
            "Preparing to unpack .../0-libfontenc1_1%3a1.1.4-1build3_amd64.deb ...\n",
            "Unpacking libfontenc1:amd64 (1:1.1.4-1build3) ...\n",
            "Selecting previously unselected package libxfont2:amd64.\n",
            "Preparing to unpack .../1-libxfont2_1%3a2.0.5-1build1_amd64.deb ...\n",
            "Unpacking libxfont2:amd64 (1:2.0.5-1build1) ...\n",
            "Selecting previously unselected package libxkbfile1:amd64.\n",
            "Preparing to unpack .../2-libxkbfile1_1%3a1.1.0-1build3_amd64.deb ...\n",
            "Unpacking libxkbfile1:amd64 (1:1.1.0-1build3) ...\n",
            "Selecting previously unselected package x11-xkb-utils.\n",
            "Preparing to unpack .../3-x11-xkb-utils_7.7+5build4_amd64.deb ...\n",
            "Unpacking x11-xkb-utils (7.7+5build4) ...\n",
            "Selecting previously unselected package xfonts-encodings.\n",
            "Preparing to unpack .../4-xfonts-encodings_1%3a1.0.5-0ubuntu2_all.deb ...\n",
            "Unpacking xfonts-encodings (1:1.0.5-0ubuntu2) ...\n",
            "Selecting previously unselected package xfonts-utils.\n",
            "Preparing to unpack .../5-xfonts-utils_1%3a7.7+6build2_amd64.deb ...\n",
            "Unpacking xfonts-utils (1:7.7+6build2) ...\n",
            "Selecting previously unselected package xfonts-base.\n",
            "Preparing to unpack .../6-xfonts-base_1%3a1.0.5_all.deb ...\n",
            "Unpacking xfonts-base (1:1.0.5) ...\n",
            "Selecting previously unselected package xserver-common.\n",
            "Preparing to unpack .../7-xserver-common_2%3a21.1.4-2ubuntu1.7~22.04.8_all.deb ...\n",
            "Unpacking xserver-common (2:21.1.4-2ubuntu1.7~22.04.8) ...\n",
            "Selecting previously unselected package xvfb.\n",
            "Preparing to unpack .../8-xvfb_2%3a21.1.4-2ubuntu1.7~22.04.8_amd64.deb ...\n",
            "Unpacking xvfb (2:21.1.4-2ubuntu1.7~22.04.8) ...\n",
            "Setting up libfontenc1:amd64 (1:1.1.4-1build3) ...\n",
            "Setting up xfonts-encodings (1:1.0.5-0ubuntu2) ...\n",
            "Setting up libxkbfile1:amd64 (1:1.1.0-1build3) ...\n",
            "Setting up libxfont2:amd64 (1:2.0.5-1build1) ...\n",
            "Setting up x11-xkb-utils (7.7+5build4) ...\n",
            "Setting up xfonts-utils (1:7.7+6build2) ...\n",
            "Setting up xfonts-base (1:1.0.5) ...\n",
            "Setting up xserver-common (2:21.1.4-2ubuntu1.7~22.04.8) ...\n",
            "Setting up xvfb (2:21.1.4-2ubuntu1.7~22.04.8) ...\n",
            "Processing triggers for man-db (2.10.2-1) ...\n",
            "Processing triggers for fontconfig (2.13.1-4.2ubuntu5) ...\n",
            "Processing triggers for libc-bin (2.35-0ubuntu3.4) ...\n",
            "/sbin/ldconfig.real: /usr/local/lib/libtbbmalloc_proxy.so.2 is not a symbolic link\n",
            "\n",
            "/sbin/ldconfig.real: /usr/local/lib/libtbbbind_2_0.so.3 is not a symbolic link\n",
            "\n",
            "/sbin/ldconfig.real: /usr/local/lib/libtbbbind.so.3 is not a symbolic link\n",
            "\n",
            "/sbin/ldconfig.real: /usr/local/lib/libtbb.so.12 is not a symbolic link\n",
            "\n",
            "/sbin/ldconfig.real: /usr/local/lib/libtbbbind_2_5.so.3 is not a symbolic link\n",
            "\n",
            "/sbin/ldconfig.real: /usr/local/lib/libtbbmalloc.so.2 is not a symbolic link\n",
            "\n",
            "Error:\n",
            "\n",
            "\t'NoneType' object has no attribute 'groups'\n",
            "\n",
            "To report issues, please visit https://github.com/wkentaro/gdown/issues.\n",
            "\u001b[2K     \u001b[90m━━━━━━━━━━━━━━━━━━━━━━━━━━━━━━━━━━━━━━━━\u001b[0m \u001b[32m953.9/953.9 kB\u001b[0m \u001b[31m11.2 MB/s\u001b[0m eta \u001b[36m0:00:00\u001b[0m\n",
            "\u001b[?25hStarting virtual X frame buffer: Xvfb.\n"
          ]
        }
      ],
      "source": [
        "import sys, os\n",
        "if 'google.colab' in sys.modules and not os.path.exists('.setup_complete'):\n",
        "    !wget -q https://raw.githubusercontent.com/yandexdataschool/Practical_RL/master/setup_colab.sh -O- | bash\n",
        "    !pip install -q gymnasium\n",
        "\n",
        "    !touch .setup_complete\n",
        "\n",
        "# This code creates a virtual display to draw game images on.\n",
        "# It will have no effect if your machine has a monitor.\n",
        "if type(os.environ.get(\"DISPLAY\")) is not str or len(os.environ.get(\"DISPLAY\")) == 0:\n",
        "    !bash ../xvfb start\n",
        "    os.environ['DISPLAY'] = ':1'"
      ]
    },
    {
      "cell_type": "code",
      "execution_count": 2,
      "metadata": {
        "id": "Qp8K-iZTP-ZQ"
      },
      "outputs": [],
      "source": [
        "import numpy as np\n",
        "import matplotlib.pyplot as plt\n",
        "%matplotlib inline"
      ]
    },
    {
      "cell_type": "markdown",
      "metadata": {
        "id": "xdMiVnF3P-ZQ"
      },
      "source": [
        "---\n",
        "\n",
        "But before we do that, we first need to make a wrapper for Gymnasium environments to allow saving and loading game states to facilitate backtracking."
      ]
    },
    {
      "cell_type": "code",
      "execution_count": 3,
      "metadata": {
        "id": "oxifcWWDP-ZQ"
      },
      "outputs": [],
      "source": [
        "import gymnasium as gym\n",
        "from pickle import dumps, loads\n",
        "from collections import namedtuple\n",
        "\n",
        "# a container for get_result function below. Works just like tuple, but prettier\n",
        "ActionResult = namedtuple(\n",
        "    \"action_result\", (\"snapshot\", \"observation\", \"reward\", \"is_done\", \"info\"))\n",
        "\n",
        "\n",
        "class WithSnapshots(gym.Wrapper):\n",
        "    \"\"\"\n",
        "    Creates a wrapper that supports saving and loading environemnt states.\n",
        "    Required for planning algorithms.\n",
        "\n",
        "    This class will have access to the core environment as self.env, e.g.:\n",
        "    - self.env.reset()           #reset original env\n",
        "    - self.env.ale.cloneState()  #make snapshot for atari. load with .restoreState()\n",
        "    - ...\n",
        "\n",
        "    You can also use reset() and step() directly for convenience.\n",
        "    - s, _ = self.reset()                   # same as self.env.reset()\n",
        "    - s, r, terminated, truncated, _ = self.step(action)  # same as self.env.step(action)\n",
        "\n",
        "    Note that while you may use self.render(), it will spawn a window that cannot be pickled.\n",
        "    Thus, you will need to call self.close() before pickling will work again.\n",
        "    \"\"\"\n",
        "\n",
        "    def get_snapshot(self, render=False):\n",
        "        \"\"\"\n",
        "        :returns: environment state that can be loaded with load_snapshot\n",
        "        Snapshots guarantee same env behaviour each time they are loaded.\n",
        "\n",
        "        Warning! Snapshots can be arbitrary things (strings, integers, json, tuples)\n",
        "        Don't count on them being pickle strings when implementing MCTS.\n",
        "\n",
        "        Developer Note: Make sure the object you return will not be affected by\n",
        "        anything that happens to the environment after it's saved.\n",
        "        You shouldn't, for example, return self.env.\n",
        "        In case of doubt, use pickle.dumps or deepcopy.\n",
        "\n",
        "        \"\"\"\n",
        "        if render:\n",
        "            self.render()  # close popup windows since we can't pickle them\n",
        "            self.close()\n",
        "\n",
        "        self.unwrapped.screen = None\n",
        "        self.unwrapped.clock = None\n",
        "        self.unwrapped.surf = None\n",
        "\n",
        "        return dumps(self.env)\n",
        "\n",
        "    def load_snapshot(self, snapshot, render=False):\n",
        "        \"\"\"\n",
        "        Loads snapshot as current env state.\n",
        "        Should not change snapshot inplace (in case of doubt, deepcopy).\n",
        "        \"\"\"\n",
        "\n",
        "        assert not hasattr(self, \"_monitor\") or hasattr(\n",
        "            self.env, \"_monitor\"), \"can't backtrack while recording\"\n",
        "\n",
        "        if render:\n",
        "            self.render()  # close popup windows since we can't load into them\n",
        "            self.close()\n",
        "        self.env = loads(snapshot)\n",
        "\n",
        "    def get_result(self, snapshot, action):\n",
        "        \"\"\"\n",
        "        A convenience function that\n",
        "        - loads snapshot,\n",
        "        - commits action via self.step,\n",
        "        - and takes snapshot again :)\n",
        "\n",
        "        :returns: next snapshot, next_observation, reward, is_done, info\n",
        "\n",
        "        Basically it returns next snapshot and almost everything that env.step would have returned.\n",
        "        Note that is_done = terminated or truncated\n",
        "        \"\"\"\n",
        "\n",
        "        self.load_snapshot(snapshot)\n",
        "        next_obs, reward, terminated, truncated, info = self.step(action)\n",
        "        next_snapshot = self.get_snapshot()\n",
        "\n",
        "        return ActionResult(\n",
        "            next_snapshot,  # fill in the variables\n",
        "            next_obs,\n",
        "            reward,\n",
        "            terminated or truncated,\n",
        "            info,\n",
        "        )"
      ]
    },
    {
      "cell_type": "markdown",
      "metadata": {
        "id": "5P4IubWXP-ZR"
      },
      "source": [
        "### Try out snapshots:\n",
        "Let`s check our wrapper. At first, reset environment and save it, further randomly play some actions and restore our environment from the snapshot. It should be the same as our previous initial state."
      ]
    },
    {
      "cell_type": "code",
      "execution_count": 4,
      "metadata": {
        "id": "2cU03gmQP-ZR"
      },
      "outputs": [],
      "source": [
        "# make env\n",
        "env = WithSnapshots(gym.make(\"CartPole-v1\",\n",
        "                             render_mode=\"rgb_array\",\n",
        "                             max_episode_steps=200))\n",
        "env.reset()\n",
        "\n",
        "n_actions = env.action_space.n"
      ]
    },
    {
      "cell_type": "code",
      "execution_count": 5,
      "metadata": {
        "colab": {
          "base_uri": "https://localhost:8080/",
          "height": 413
        },
        "id": "TKrRbdRHP-ZR",
        "outputId": "fc38d246-ace1-4408-814c-b88913e29657"
      },
      "outputs": [
        {
          "output_type": "stream",
          "name": "stdout",
          "text": [
            "initial_state:\n"
          ]
        },
        {
          "output_type": "display_data",
          "data": {
            "text/plain": [
              "<Figure size 640x480 with 1 Axes>"
            ],
            "image/png": "[encoded data removed]"
          },
          "metadata": {}
        }
      ],
      "source": [
        "print(\"initial_state:\")\n",
        "plt.imshow(env.render())\n",
        "env.close()\n",
        "\n",
        "# create first snapshot\n",
        "snap0 = env.get_snapshot()"
      ]
    },
    {
      "cell_type": "code",
      "execution_count": 7,
      "metadata": {
        "colab": {
          "base_uri": "https://localhost:8080/",
          "height": 485
        },
        "id": "eOtH7mxxP-ZR",
        "outputId": "b36bc394-95e7-48da-abf6-4ec492f6567e"
      },
      "outputs": [
        {
          "output_type": "stream",
          "name": "stderr",
          "text": [
            "/usr/local/lib/python3.10/dist-packages/gymnasium/envs/classic_control/cartpole.py:180: UserWarning: \u001b[33mWARN: You are calling 'step()' even though this environment has already returned terminated = True. You should always call 'reset()' once you receive 'terminated = True' -- any further steps are undefined behavior.\u001b[0m\n",
            "  logger.warn(\n"
          ]
        },
        {
          "output_type": "stream",
          "name": "stdout",
          "text": [
            "Whoops! We died!\n",
            "final state:\n"
          ]
        },
        {
          "output_type": "display_data",
          "data": {
            "text/plain": [
              "<Figure size 640x480 with 1 Axes>"
            ],
            "image/png": "[encoded data removed]"
          },
          "metadata": {}
        }
      ],
      "source": [
        "# play without making snapshots (faster)\n",
        "while True:\n",
        "    _, _, terminated, truncated, _ = env.step(env.action_space.sample())\n",
        "    if terminated:\n",
        "        print(\"Whoops! We died!\")\n",
        "        break\n",
        "    if truncated:\n",
        "        print(\"Time is over!\")\n",
        "        break\n",
        "\n",
        "print(\"final state:\")\n",
        "plt.imshow(env.render())\n",
        "env.close()"
      ]
    },
    {
      "cell_type": "code",
      "execution_count": 8,
      "metadata": {
        "colab": {
          "base_uri": "https://localhost:8080/",
          "height": 448
        },
        "id": "YC5fCTeEP-ZR",
        "outputId": "0829503a-7b88-45cd-e270-f82bbb51d21a"
      },
      "outputs": [
        {
          "output_type": "stream",
          "name": "stdout",
          "text": [
            "\n",
            "\n",
            "After loading snapshot\n"
          ]
        },
        {
          "output_type": "display_data",
          "data": {
            "text/plain": [
              "<Figure size 640x480 with 1 Axes>"
            ],
            "image/png": "[encoded data removed]"
          },
          "metadata": {}
        }
      ],
      "source": [
        "# reload initial state\n",
        "env.load_snapshot(snap0)\n",
        "\n",
        "print(\"\\n\\nAfter loading snapshot\")\n",
        "plt.imshow(env.render())\n",
        "env.close()"
      ]
    },
    {
      "cell_type": "code",
      "execution_count": 10,
      "metadata": {
        "id": "afCbbQLXP-ZR"
      },
      "outputs": [],
      "source": [
        "# get outcome (snapshot, observation, reward, is_done, info)\n",
        "res = env.get_result(snap0, env.action_space.sample())\n",
        "\n",
        "snap1, observation, reward = res[:3]\n",
        "\n",
        "# second step\n",
        "res2 = env.get_result(snap1, env.action_space.sample())"
      ]
    },
    {
      "cell_type": "markdown",
      "metadata": {
        "id": "ysSwLP6CP-ZS"
      },
      "source": [
        "# MCTS: Monte-Carlo tree search\n",
        "\n",
        "\n",
        "We will start by implementing the `Node` class - a simple class that acts like MCTS node and supports some of the MCTS algorithm steps.\n",
        "\n",
        "This MCTS implementation makes some assumptions about the environment, you can find those _in the notes section at the end of the notebook_."
      ]
    },
    {
      "cell_type": "code",
      "source": [
        "my_set = set([1, -1, 2, 2, 1, -3])\n",
        "max(my_set, key = lambda x: x if x >= 0 else -x)"
      ],
      "metadata": {
        "colab": {
          "base_uri": "https://localhost:8080/"
        },
        "id": "Q7XOl9hYX7kL",
        "outputId": "391d66ab-20b0-414a-d613-557b64fbfad1"
      },
      "execution_count": 37,
      "outputs": [
        {
          "output_type": "execute_result",
          "data": {
            "text/plain": [
              "-3"
            ]
          },
          "metadata": {},
          "execution_count": 37
        }
      ]
    },
    {
      "cell_type": "code",
      "execution_count": 9,
      "metadata": {
        "id": "EAGu-84GP-ZS"
      },
      "outputs": [],
      "source": [
        "assert isinstance(env, WithSnapshots)"
      ]
    },
    {
      "cell_type": "code",
      "execution_count": 39,
      "metadata": {
        "id": "QeHYjsSVP-ZS"
      },
      "outputs": [],
      "source": [
        "class Node:\n",
        "    \"\"\"A tree node for MCTS.\n",
        "\n",
        "    Each Node corresponds to the result of performing a particular action (self.action)\n",
        "    in a particular state (self.parent), and is essentially one arm in the multi-armed bandit that\n",
        "    we model in that state.\"\"\"\n",
        "\n",
        "    # metadata:\n",
        "    parent = None  # parent Node\n",
        "    qvalue_sum = 0.  # sum of Q-values from all visits (numerator)\n",
        "    times_visited = 0  # counter of visits (denominator)\n",
        "\n",
        "    def __init__(self, parent, action):\n",
        "        \"\"\"\n",
        "        Creates and empty node with no children.\n",
        "        Does so by commiting an action and recording outcome.\n",
        "\n",
        "        :param parent: parent Node\n",
        "        :param action: action to commit from parent Node\n",
        "        \"\"\"\n",
        "\n",
        "        self.parent = parent\n",
        "        self.action = action\n",
        "        self.children = set()  # set of child nodes\n",
        "\n",
        "        # get action outcome and save it\n",
        "        res = env.get_result(parent.snapshot, action)\n",
        "        self.snapshot, self.observation, self.immediate_reward, self.is_done, _ = res\n",
        "\n",
        "    def is_leaf(self):\n",
        "        return len(self.children) == 0\n",
        "\n",
        "    def is_root(self):\n",
        "        return self.parent is None\n",
        "\n",
        "    def get_qvalue_estimate(self):\n",
        "        return self.qvalue_sum / self.times_visited if self.times_visited != 0 else 0\n",
        "\n",
        "    def ucb_score(self, scale=10, max_value=1e100):\n",
        "        \"\"\"\n",
        "        Computes ucb1 upper bound using current value and visit counts for node and it's parent.\n",
        "\n",
        "        :param scale: Multiplies upper bound by that. From Hoeffding inequality,\n",
        "                      assumes reward range to be [0, scale].\n",
        "        :param max_value: a value that represents infinity (for unvisited nodes).\n",
        "\n",
        "        \"\"\"\n",
        "\n",
        "        if self.times_visited == 0:\n",
        "            return max_value\n",
        "\n",
        "        # compute ucb-1 additive component (to be added to mean value)\n",
        "        # hint: you can use self.parent.times_visited for N times node was considered,\n",
        "        # and self.times_visited for n times it was visited\n",
        "        N_sa = self.times_visited\n",
        "        N_s = self.parent.times_visited\n",
        "\n",
        "        U = np.sqrt(2*np.log(N_s)/N_sa)\n",
        "\n",
        "        return self.get_qvalue_estimate() + scale * U\n",
        "\n",
        "    # MCTS steps\n",
        "\n",
        "    def select_best_leaf(self):\n",
        "        \"\"\"\n",
        "        Picks the leaf with the highest priority to expand.\n",
        "        Does so by recursively picking nodes with the best UCB-1 score until it reaches a leaf.\n",
        "        \"\"\"\n",
        "        if self.is_leaf():\n",
        "            return self\n",
        "\n",
        "        children = self.children\n",
        "\n",
        "        # Select the child node with the highest UCB score. You might want to implement some heuristics\n",
        "        # to break ties in a smart way, although CartPole should work just fine without them.\n",
        "        best_child = max(children, key=lambda child: child.ucb_score())\n",
        "\n",
        "        return best_child.select_best_leaf()\n",
        "\n",
        "    def expand(self):\n",
        "        \"\"\"\n",
        "        Expands the current node by creating all possible child nodes.\n",
        "        Then returns one of those children.\n",
        "        \"\"\"\n",
        "\n",
        "        assert not self.is_done, \"can't expand from terminal state\"\n",
        "\n",
        "        for action in range(n_actions):\n",
        "            self.children.add(Node(self, action))\n",
        "\n",
        "        # If you have implemented any heuristics in select_best_leaf(), they will be used here.\n",
        "        # Otherwise, this is equivalent to picking some undefined newly created child node.\n",
        "        return self.select_best_leaf()\n",
        "\n",
        "    def rollout(self, t_max=10**4):\n",
        "        \"\"\"\n",
        "        Play the game from this state to the end (done) or for t_max steps.\n",
        "\n",
        "        On each step, pick action at random (hint: env.action_space.sample()).\n",
        "\n",
        "        Compute sum of rewards from the current state until the end of the episode.\n",
        "        Note 1: use env.action_space.sample() for picking a random action.\n",
        "        Note 2: if the node is terminal (self.is_done is True), just return self.immediate_reward.\n",
        "\n",
        "        \"\"\"\n",
        "\n",
        "        # set env into the appropriate state\n",
        "        env.load_snapshot(self.snapshot)\n",
        "        obs = self.observation\n",
        "        is_done = self.is_done\n",
        "\n",
        "        if is_done:\n",
        "          return self.immediate_reward\n",
        "\n",
        "        rollout_reward = 0.0\n",
        "\n",
        "        for t in range(t_max):\n",
        "          action = env.action_space.sample()\n",
        "          _, reward, terminated, truncated, _ = env.step(action)\n",
        "\n",
        "          rollout_reward += reward\n",
        "          if terminated or truncated:\n",
        "            break\n",
        "\n",
        "        return rollout_reward\n",
        "\n",
        "    def propagate(self, child_qvalue):\n",
        "        \"\"\"\n",
        "        Uses child Q-value (sum of rewards) to update parents recursively.\n",
        "        \"\"\"\n",
        "        # compute node Q-value\n",
        "        my_qvalue = self.immediate_reward + child_qvalue\n",
        "\n",
        "        # update qvalue_sum and times_visited\n",
        "        self.qvalue_sum += my_qvalue\n",
        "        self.times_visited += 1\n",
        "\n",
        "        # propagate upwards\n",
        "        if not self.is_root():\n",
        "            self.parent.propagate(my_qvalue)\n",
        "\n",
        "    def safe_delete(self):\n",
        "        \"\"\"safe delete to prevent memory leak in some python versions\"\"\"\n",
        "        del self.parent\n",
        "        for child in self.children:\n",
        "            child.safe_delete()\n",
        "            del child"
      ]
    },
    {
      "cell_type": "code",
      "execution_count": 40,
      "metadata": {
        "id": "QUPDoEo2P-ZS"
      },
      "outputs": [],
      "source": [
        "class Root(Node):\n",
        "    def __init__(self, snapshot, observation):\n",
        "        \"\"\"\n",
        "        creates special node that acts like tree root\n",
        "        :snapshot: snapshot (from env.get_snapshot) to start planning from\n",
        "        :observation: last environment observation\n",
        "        \"\"\"\n",
        "\n",
        "        self.parent = self.action = None\n",
        "        self.children = set()  # set of child nodes\n",
        "\n",
        "        # root: load snapshot and observation\n",
        "        self.snapshot = snapshot\n",
        "        self.observation = observation\n",
        "        self.immediate_reward = 0\n",
        "        self.is_done = False\n",
        "\n",
        "    @staticmethod\n",
        "    def from_node(node):\n",
        "        \"\"\"initializes node as root\"\"\"\n",
        "        root = Root(node.snapshot, node.observation)\n",
        "        # copy data\n",
        "        copied_fields = [\"qvalue_sum\", \"times_visited\", \"children\", \"is_done\"]\n",
        "        for field in copied_fields:\n",
        "            setattr(root, field, getattr(node, field))\n",
        "        return root"
      ]
    },
    {
      "cell_type": "markdown",
      "metadata": {
        "id": "RGYSisMFP-ZS"
      },
      "source": [
        "## Main MCTS loop\n",
        "\n",
        "With all we implemented, MCTS boils down to a trivial piece of code."
      ]
    },
    {
      "cell_type": "code",
      "source": [
        "!pip install imageio"
      ],
      "metadata": {
        "colab": {
          "base_uri": "https://localhost:8080/"
        },
        "id": "BgQiOROQjKUN",
        "outputId": "fdb7d3b0-ddc6-465f-d3dc-952b2cf60aa4"
      },
      "execution_count": 71,
      "outputs": [
        {
          "output_type": "stream",
          "name": "stdout",
          "text": [
            "Requirement already satisfied: imageio in /usr/local/lib/python3.10/dist-packages (2.31.6)\n",
            "Requirement already satisfied: numpy in /usr/local/lib/python3.10/dist-packages (from imageio) (1.25.2)\n",
            "Requirement already satisfied: pillow<10.1.0,>=8.3.2 in /usr/local/lib/python3.10/dist-packages (from imageio) (9.4.0)\n"
          ]
        }
      ]
    },
    {
      "cell_type": "code",
      "execution_count": 41,
      "metadata": {
        "id": "uBBpJPalP-ZS"
      },
      "outputs": [],
      "source": [
        "def plan_mcts(root, n_iters=10):\n",
        "    \"\"\"\n",
        "    builds tree with monte-carlo tree search for n_iters iterations\n",
        "    :param root: tree node to plan from\n",
        "    :param n_iters: how many select-expand-simulate-propagete loops to make\n",
        "    \"\"\"\n",
        "    for _ in range(n_iters):\n",
        "        node = root.select_best_leaf()\n",
        "\n",
        "        if node.is_done:\n",
        "            # All rollouts from a terminal node are empty, and thus have 0 reward.\n",
        "            node.propagate(0)\n",
        "        else:\n",
        "            # Expand the best leaf. Perform a rollout from it. Propagate the results upwards.\n",
        "            # Note that here you have some leeway in choosing where to propagate from.\n",
        "            # Any reasonable choice should work.\n",
        "\n",
        "            child = node.expand()\n",
        "            reward = child.rollout()\n",
        "            child.propagate(reward)"
      ]
    },
    {
      "cell_type": "markdown",
      "metadata": {
        "id": "0b5CuPUnP-ZT"
      },
      "source": [
        "## Plan and execute\n",
        "\n",
        "Let's use our MCTS implementation to find the optimal policy."
      ]
    },
    {
      "cell_type": "code",
      "execution_count": 78,
      "metadata": {
        "id": "nQk07mV2P-ZT"
      },
      "outputs": [],
      "source": [
        "env = WithSnapshots(gym.make(\"CartPole-v1\", render_mode=\"rgb_array\", max_episode_steps=200))\n",
        "root_observation, _ = env.reset()\n",
        "root_snapshot = env.get_snapshot()\n",
        "root = Root(root_snapshot, root_observation)"
      ]
    },
    {
      "cell_type": "code",
      "execution_count": 79,
      "metadata": {
        "id": "H2HyRja0P-ZT"
      },
      "outputs": [],
      "source": [
        "# plan from root:\n",
        "plan_mcts(root, n_iters=100)"
      ]
    },
    {
      "cell_type": "code",
      "execution_count": 80,
      "metadata": {
        "id": "GnM4ShFAP-ZT"
      },
      "outputs": [],
      "source": [
        "import copy\n",
        "saved_root = copy.deepcopy(root)\n",
        "root = saved_root"
      ]
    },
    {
      "cell_type": "code",
      "execution_count": 81,
      "metadata": {
        "colab": {
          "base_uri": "https://localhost:8080/",
          "height": 430
        },
        "id": "39-OuKpWP-ZT",
        "outputId": "bf2345a9-7cda-4ad8-aee1-2d97ef0b6c22"
      },
      "outputs": [
        {
          "output_type": "display_data",
          "data": {
            "text/plain": [
              "<Figure size 640x480 with 1 Axes>"
            ],
            "image/png": "[encoded data removed]"
          },
          "metadata": {}
        },
        {
          "output_type": "stream",
          "name": "stdout",
          "text": [
            "Finished with reward =  200.0\n"
          ]
        }
      ],
      "source": [
        "import imageio.v2 as iio\n",
        "from IPython.display import clear_output\n",
        "from itertools import count\n",
        "\n",
        "\n",
        "video_writer = iio.get_writer(\n",
        "    \"CartPole-v1-video.mp4\",\n",
        "    fps=15\n",
        ")\n",
        "\n",
        "total_reward = 0  # sum of rewards\n",
        "test_env = loads(root_snapshot)  # env used to show progress\n",
        "\n",
        "for i in count():\n",
        "    # get best child\n",
        "    best_child = max(root.children, key=lambda node: node.get_qvalue_estimate())\n",
        "\n",
        "    # take action\n",
        "    s, r, terminated, truncated, _ = test_env.step(best_child.action)\n",
        "\n",
        "    # show image\n",
        "    clear_output(True)\n",
        "    plt.title(\"step %i\" % i)\n",
        "    plt.imshow(test_env.render())\n",
        "    plt.show()\n",
        "\n",
        "    # write frame to video\n",
        "    frame = test_env.render()\n",
        "    video_writer.append_data(frame)\n",
        "\n",
        "    total_reward += r\n",
        "    if terminated or truncated:\n",
        "        print(\"Finished with reward = \", total_reward)\n",
        "        break\n",
        "\n",
        "    # discard unrealized part of the tree [because not every child matters :(]\n",
        "    for child in root.children:\n",
        "        if child != best_child:\n",
        "            child.safe_delete()\n",
        "\n",
        "    # declare best child a new root\n",
        "    root = Root.from_node(best_child)\n",
        "\n",
        "    assert not root.is_leaf(), \\\n",
        "        \"We ran out of tree! Need more planning! Try growing the tree right inside the loop.\"\n",
        "\n",
        "    # You may want to run more planning here\n",
        "    plan_mcts(root, n_iters=5)\n",
        "\n",
        "\n",
        "video_writer.close()"
      ]
    },
    {
      "cell_type": "markdown",
      "source": [
        "### Video"
      ],
      "metadata": {
        "id": "wwlQr-YSkg2r"
      }
    },
    {
      "cell_type": "code",
      "source": [
        "from IPython.display import HTML\n",
        "from base64 import b64encode\n",
        "\n",
        "\n",
        "mp4 = open('CartPole-v1-video.mp4','rb').read()\n",
        "data_url = \"data:video/mp4;base64,\" + b64encode(mp4).decode()\n",
        "\n",
        "HTML(\"\"\"\n",
        "  <video width=600 controls>\n",
        "      <source src=\"%s\" type=\"video/mp4\">\n",
        "  </video>\n",
        "  \"\"\" % data_url)"
      ],
      "metadata": {
        "colab": {
          "base_uri": "https://localhost:8080/",
          "height": 416
        },
        "id": "9rbhQ8NWkraz",
        "outputId": "31a7f620-7a79-4286-c291-a10b4c945726"
      },
      "execution_count": 84,
      "outputs": [
        {
          "output_type": "execute_result",
          "data": {
            "text/plain": [
              "<IPython.core.display.HTML object>"
            ],
            "text/html": [
              "\n",
              "  <video width=600 controls>\n",
              "      <source src=\"data:video/mp4;base64,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\" type=\"video/mp4\">\n",
              "  </video>\n",
              "  "
            ]
          },
          "metadata": {},
          "execution_count": 84
        }
      ]
    },
    {
      "cell_type": "markdown",
      "metadata": {
        "id": "bU_2txSFP-ZT"
      },
      "source": [
        "## Bonus assignments (10+pts each)\n",
        "\n",
        "There's a few things you might want to try if you want to dig deeper:\n",
        "\n",
        "### Node selection and expansion\n",
        "\n",
        "\"Analyze this\" assignment\n",
        "\n",
        "UCB-1 is a weak bound as it relies on a very general bounds (Hoeffding Inequality, to be exact).\n",
        "* Try playing with the exploration parameter $C_p$. The theoretically optimal $C_p$ you can get from a max reward of the environment (max reward for CartPole is 200).\n",
        "* Use using a different exploration strategy (bayesian UCB, for example)\n",
        "* Expand not all but several random actions per `expand` call. See __the notes below__ for details.\n",
        "\n",
        "The goal is to find out what gives the optimal performance for `CartPole-v0` for different time budgets (i.e. different n_iter in plan_mcts.)\n",
        "\n",
        "Evaluate your results on `Acrobot-v1` - do the results change and if so, how can you explain it?\n",
        "\n",
        "\n",
        "### Atari-RAM\n",
        "\n",
        "\"Build this\" assignment\n",
        "\n",
        "Don't forget to run:\n",
        "```  \n",
        "pip install gymnasium[atari,accept-rom-license]\n",
        "```\n",
        "\n",
        "Apply MCTS to play Atari games. In particular, let's start with ```gym.make(\"MsPacman-ramDeterministic-v0\")```.\n",
        "\n",
        "This requires two things:\n",
        "* Slightly modify WithSnapshots wrapper to work with atari.\n",
        "\n",
        " * Atari has a special interface for snapshots:\n",
        "   ```   \n",
        "   snapshot = self.env.ale.cloneState()\n",
        "   ...\n",
        "   self.env.ale.restoreState(snapshot)\n",
        "   ```\n",
        " * Try it on the env above to make sure it does what you told it to.\n",
        "\n",
        "* Run MCTS on the game above.\n",
        " * Start with small tree size to speed-up computations\n",
        " * You will probably want to rollout for 10-100 steps (t_max) for starters\n",
        " * Consider using discounted rewards (see __notes at the end__)\n",
        " * Try a better rollout policy\n",
        "\n",
        "\n",
        "### Integrate learning into planning\n",
        "\n",
        "Planning on each iteration is a costly thing to do. You can speed things up drastically if you train a classifier to predict which action will turn out to be best according to MCTS.\n",
        "\n",
        "To do so, just record which action did the MCTS agent take on each step and fit something to [state, mcts_optimal_action]\n",
        "* You can also use optimal actions from discarded states to get more (dirty) samples. Just don't forget to fine-tune without them.\n",
        "* It's also worth a try to use P(best_action|state) from your model to select best nodes in addition to UCB\n",
        "* If your model is lightweight enough, try using it as a rollout policy.\n",
        "\n",
        "__(bonus points)__ While CartPole is glorious enough, try expanding this to ```gym.make(\"MsPacmanDeterministic-v0\")```\n",
        "* See previous section on how to wrap atari (you'll get points for both if you run this on atari)\n",
        "\n",
        "\n",
        "### Integrate planning into learning (project, a LOT of points)\n",
        "\n",
        "Incorporate planning into the agent architecture.\n",
        "\n",
        "The goal is to implement [Value Iteration Networks](https://arxiv.org/abs/1602.02867)\n",
        "\n",
        "You will need to implement a special layer that performs value iteration-like update to a recurrent memory. This can be implemented the same way you did in the POMDP assignment."
      ]
    },
    {
      "cell_type": "markdown",
      "metadata": {
        "id": "jbFS-VamP-ZT"
      },
      "source": [
        "## Notes\n",
        "\n",
        "\n",
        "#### Assumptions\n",
        "\n",
        "The full list of assumptions is:\n",
        "\n",
        "* __Finite number of actions__: we enumerate all actions in `expand`.\n",
        "* __Episodic (finite) MDP__: while technically it works for infinite MDPs, we perform a rollout for $10^4$ steps. If you are knowingly infinite, please adjust `t_max` to something more reasonable.\n",
        "* __Deterministic MDP__: `Node` represents the single outcome of taking `self.action` in `self.parent`, and does not support the situation where taking an action in a state may lead to different rewards and next states.\n",
        "* __No discounted rewards__: we assume $\\gamma=1$. If that isn't the case, you only need to change two lines in `rollout()` and use `my_qvalue = self.immediate_reward + gamma * child_qvalue` for `propagate()`.\n",
        "* __pickleable env__: won't work if e.g. your env is connected to a web-browser surfing the internet. For custom envs, you may need to modify get_snapshot/load_snapshot from `WithSnapshots`.\n",
        "\n",
        "#### On `get_best_leaf` and `expand` functions\n",
        "\n",
        "This MCTS implementation only selects leaf nodes for expansion.\n",
        "This doesn't break things down because `expand` adds all possible actions. Hence, all non-leaf nodes are by design fully expanded and shouldn't be selected.\n",
        "\n",
        "If you want to only add a few random action on each expand, you will also have to modify `get_best_leaf` to consider returning non-leafs.\n",
        "\n",
        "#### Rollout policy\n",
        "\n",
        "We use a simple uniform policy for rollouts. This introduces a negative bias to good situations that can be messed up completely with random bad action. As a simple example, if you tend to rollout with uniform policy, you better don't use sharp knives and walk near cliffs.\n",
        "\n",
        "You can improve that by integrating a reinforcement _learning_ algorithm with a computationally light agent. You can even train this agent on optimal policy found by the tree search.\n",
        "\n",
        "#### Contributions\n",
        "* Reusing some code from 5vision [solution for deephack.RL](https://github.com/5vision/uct_atari), code by Mikhail Pavlov\n",
        "* Using some code from [this gist](https://gist.github.com/blole/dfebbec182e6b72ec16b66cc7e331110)\n",
        "\n",
        "#### References\n",
        "* <a id=\"1\">[1]</a> _Coulom R. (2007) Efficient Selectivity and Backup Operators in Monte-Carlo Tree Search. In: van den Herik H.J., Ciancarini P., Donkers H.H.L.M.. (eds) Computers and Games. CG 2006. Lecture Notes in Computer Science, vol 4630. Springer, Berlin, Heidelberg_\n",
        "\n",
        "* <a id=\"2\">[2]</a> _Kocsis L., Szepesvári C. (2006) Bandit Based Monte-Carlo Planning. In: Fürnkranz J., Scheffer T., Spiliopoulou M. (eds) Machine Learning: ECML 2006. ECML 2006. Lecture Notes in Computer Science, vol 4212. Springer, Berlin, Heidelberg_\n",
        "\n",
        "* <a id=\"3\">[3]</a> _Kocsis, Levente, Csaba Szepesvári, and Jan Willemson. \"Improved monte-carlo search.\" Univ. Tartu, Estonia, Tech. Rep 1 (2006)._\n",
        "\n",
        "* <a id=\"4\">[4]</a> _C. B. Browne et al., \"A Survey of Monte Carlo Tree Search Methods,\" in IEEE Transactions on Computational Intelligence and AI in Games, vol. 4, no. 1, pp. 1-43, March 2012, doi: 10.1109/TCIAIG.2012.2186810._"
      ]
    }
  ],
  "metadata": {
    "language_info": {
      "name": "python"
    },
    "colab": {
      "provenance": []
    },
    "kernelspec": {
      "name": "python3",
      "display_name": "Python 3"
    }
  },
  "nbformat": 4,
  "nbformat_minor": 0
}