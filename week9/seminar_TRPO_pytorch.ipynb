{
  "cells": [
    {
      "cell_type": "code",
      "execution_count": null,
      "metadata": {
        "colab": {
          "base_uri": "https://localhost:8080/"
        },
        "id": "91DtHf0tpxPb",
        "outputId": "706d0aa0-d46a-42d7-85c3-afad65bed938"
      },
      "outputs": [
        {
          "output_type": "stream",
          "name": "stdout",
          "text": [
            "Starting virtual X frame buffer: Xvfb.\n"
          ]
        }
      ],
      "source": [
        "import sys, os\n",
        "if 'google.colab' in sys.modules and not os.path.exists('.setup_complete'):\n",
        "    !wget -q https://raw.githubusercontent.com/yandexdataschool/Practical_RL/master/setup_colab.sh -O- | bash\n",
        "\n",
        "    !pip install -q gymnasium\n",
        "\n",
        "    !touch .setup_complete\n",
        "\n",
        "# This code creates a virtual display to draw game images on.\n",
        "# It will have no effect if your machine has a monitor.\n",
        "if type(os.environ.get(\"DISPLAY\")) is not str or len(os.environ.get(\"DISPLAY\")) == 0:\n",
        "    !bash ../xvfb start\n",
        "    os.environ['DISPLAY'] = ':1'"
      ]
    },
    {
      "cell_type": "code",
      "source": [
        "!pip install -q swig\n",
        "!pip install -q gymnasium[box2d]"
      ],
      "metadata": {
        "id": "IWTCRu0PylDw"
      },
      "execution_count": null,
      "outputs": []
    },
    {
      "cell_type": "markdown",
      "metadata": {
        "id": "CkReKD7-pxPc"
      },
      "source": [
        "### Let's make a TRPO!\n",
        "\n",
        "In this notebook we will write the code of the one Trust Region Policy Optimization.\n",
        "As usually, it contains a few different parts which we are going to reproduce.\n",
        "\n"
      ]
    },
    {
      "cell_type": "code",
      "execution_count": null,
      "metadata": {
        "id": "-jYgBsospxPd"
      },
      "outputs": [],
      "source": [
        "from typing import Tuple\n",
        "\n",
        "import numpy as np\n",
        "import torch\n",
        "import torch.nn as nn\n",
        "import torch.nn.functional as F\n",
        "\n",
        "import matplotlib.pyplot as plt\n",
        "%matplotlib inline"
      ]
    },
    {
      "cell_type": "code",
      "execution_count": null,
      "metadata": {
        "colab": {
          "base_uri": "https://localhost:8080/"
        },
        "id": "qIjCs0cwpxPd",
        "outputId": "288d1e4e-bcfa-42ce-ad39-0a74390c53ef"
      },
      "outputs": [
        {
          "output_type": "stream",
          "name": "stdout",
          "text": [
            "Observation Space Box([ -1.        -1.        -1.        -1.       -12.566371 -28.274334], [ 1.        1.        1.        1.       12.566371 28.274334], (6,), float32)\n",
            "Action Space Discrete(3)\n"
          ]
        }
      ],
      "source": [
        "import gymnasium as gym\n",
        "\n",
        "env = gym.make(\"Acrobot-v1\", render_mode=\"rgb_array\")\n",
        "env.reset()\n",
        "observation_shape = env.observation_space.shape\n",
        "n_actions = env.action_space.n\n",
        "\n",
        "print(\"Observation Space\", env.observation_space)\n",
        "print(\"Action Space\", env.action_space)"
      ]
    },
    {
      "cell_type": "code",
      "execution_count": null,
      "metadata": {
        "colab": {
          "base_uri": "https://localhost:8080/",
          "height": 452
        },
        "id": "jK6Ic2UCpxPd",
        "outputId": "f78c34e5-e21f-46ae-d02f-245ee5bb7605"
      },
      "outputs": [
        {
          "output_type": "execute_result",
          "data": {
            "text/plain": [
              "<matplotlib.image.AxesImage at 0x7f4b6fffb4f0>"
            ]
          },
          "metadata": {},
          "execution_count": 6
        },
        {
          "output_type": "display_data",
          "data": {
            "text/plain": [
              "<Figure size 640x480 with 1 Axes>"
            ],
            "image/png": "[encoded data removed]"
          },
          "metadata": {}
        }
      ],
      "source": [
        "plt.imshow(env.render())"
      ]
    },
    {
      "cell_type": "markdown",
      "metadata": {
        "id": "61I23t5YpxPd"
      },
      "source": [
        "### Step 1: Defining a network\n",
        "\n",
        "With all it's complexity, at it's core TRPO is yet another policy gradient method.\n",
        "\n",
        "This essentially means we're actually training a stochastic policy $\\pi_\\theta \\left( a \\middle| s \\right)$.\n",
        "\n",
        "And yes, it's gonna be a neural network. So let's start by defining one."
      ]
    },
    {
      "cell_type": "code",
      "execution_count": null,
      "metadata": {
        "id": "TL_022PlpxPe"
      },
      "outputs": [],
      "source": [
        "class TRPOAgent(nn.Module):\n",
        "    def __init__(self, state_shape: Tuple[int], n_actions: int):\n",
        "        '''\n",
        "        Here you should define your model\n",
        "        You should have LOG-PROBABILITIES as output because you will need it to compute loss\n",
        "        We recommend that you start simple:\n",
        "        use 1-2 hidden layers with 100-500 units and relu for the first try\n",
        "        '''\n",
        "        super().__init__()\n",
        "\n",
        "        assert isinstance(state_shape, tuple)\n",
        "        assert len(state_shape) == 1\n",
        "        input_dim = state_shape[0]\n",
        "\n",
        "        # Prepare your model here.\n",
        "        self.layer1 = nn.Linear(input_dim, 500)\n",
        "        self.layer2 = nn.Linear(500, 128)\n",
        "        self.layer3 = nn.Linear(128, n_actions)\n",
        "\n",
        "        self.model = nn.Sequential(\n",
        "            self.layer1,\n",
        "            nn.ReLU(),\n",
        "            self.layer2,\n",
        "            nn.ReLU(),\n",
        "            self.layer3\n",
        "        )\n",
        "\n",
        "    def forward(self, states: torch.Tensor):\n",
        "        \"\"\"\n",
        "        takes agent's observation, returns log-probabilities\n",
        "        :param state_t: a batch of states, shape = [batch_size, state_shape]\n",
        "        \"\"\"\n",
        "\n",
        "        # Use your network to compute log_probs for the given states.\n",
        "        out = self.model(states)\n",
        "        log_probs = F.log_softmax(out, dim=-1)\n",
        "\n",
        "        return log_probs\n",
        "\n",
        "    def get_log_probs(self, states: torch.Tensor):\n",
        "        '''\n",
        "        Log-probs for training\n",
        "        '''\n",
        "        return self.forward(states)\n",
        "\n",
        "    def get_probs(self, states: torch.Tensor):\n",
        "        '''\n",
        "        Probs for interaction\n",
        "        '''\n",
        "        return torch.exp(self.forward(states))\n",
        "\n",
        "    def act(self, obs: np.ndarray, sample: bool = True):\n",
        "        '''\n",
        "        Samples action from policy distribution (sample = True) or takes most likely action (sample = False)\n",
        "        :param: obs - single observation vector\n",
        "        :param sample: if True, samples from \\pi, otherwise takes most likely action\n",
        "        :returns: action (single integer) and probabilities for all actions\n",
        "        '''\n",
        "\n",
        "        with torch.no_grad():\n",
        "            probs = self.get_probs(torch.tensor(obs[np.newaxis], dtype=torch.float32)).numpy()\n",
        "\n",
        "        if sample:\n",
        "            action = int(np.random.choice(n_actions, p=probs[0]))\n",
        "        else:\n",
        "            action = int(np.argmax(probs))\n",
        "\n",
        "        return action, probs[0]\n",
        "\n",
        "\n",
        "agent = TRPOAgent(observation_shape, n_actions)"
      ]
    },
    {
      "cell_type": "code",
      "execution_count": null,
      "metadata": {
        "colab": {
          "base_uri": "https://localhost:8080/"
        },
        "id": "2lF9Snb_pxPe",
        "outputId": "790e9545-60ff-485b-af09-7cc935d3de6b"
      },
      "outputs": [
        {
          "output_type": "stream",
          "name": "stdout",
          "text": [
            "sampled: [(0, array([0.36914775, 0.31602034, 0.3148319 ], dtype=float32)), (0, array([0.36691156, 0.317614  , 0.31547448], dtype=float32)), (1, array([0.36900473, 0.31697115, 0.31402412], dtype=float32)), (2, array([0.36654046, 0.31782782, 0.31563178], dtype=float32)), (0, array([0.36924538, 0.31622297, 0.31453165], dtype=float32))]\n",
            "greedy: [(0, array([0.3689319 , 0.31581053, 0.31525764], dtype=float32)), (0, array([0.368281 , 0.3169169, 0.3148021], dtype=float32)), (0, array([0.37044257, 0.31579795, 0.31375945], dtype=float32)), (0, array([0.3725225 , 0.31393698, 0.31354055], dtype=float32)), (0, array([0.36724284, 0.31605095, 0.31670624], dtype=float32))]\n"
          ]
        }
      ],
      "source": [
        "# Check if log-probabilities satisfies all the requirements\n",
        "log_probs = agent.get_log_probs(torch.tensor(env.reset()[0][np.newaxis], dtype=torch.float32))\n",
        "assert (\n",
        "    isinstance(log_probs, torch.Tensor) and\n",
        "    log_probs.requires_grad\n",
        "), \"log_probs must be a torch.Tensor with grad\"\n",
        "assert log_probs.shape == (1, n_actions)\n",
        "sums = torch.exp(log_probs).sum(dim=1)\n",
        "assert torch.allclose(sums, torch.ones_like(sums))\n",
        "\n",
        "# Demo use\n",
        "print(\"sampled:\", [agent.act(env.reset()[0]) for _ in range(5)])\n",
        "print(\"greedy:\", [agent.act(env.reset()[0], sample=False) for _ in range(5)])"
      ]
    },
    {
      "cell_type": "markdown",
      "metadata": {
        "id": "11k8tNBSpxPe"
      },
      "source": [
        "#### Flat parameters operations\n",
        "\n",
        "We are going to use it"
      ]
    },
    {
      "cell_type": "code",
      "execution_count": null,
      "metadata": {
        "id": "U7kRdq9zpxPe"
      },
      "outputs": [],
      "source": [
        "def get_flat_params_from(model):\n",
        "    params = [torch.ravel(param.detach()) for param in model.parameters()]\n",
        "    flat_params = torch.cat(params)\n",
        "    return flat_params\n",
        "\n",
        "\n",
        "def set_flat_params_to(model, flat_params):\n",
        "    prev_ind = 0\n",
        "    for param in model.parameters():\n",
        "        flat_size = int(np.prod(list(param.shape)))\n",
        "        param.data.copy_(\n",
        "            flat_params[prev_ind:prev_ind + flat_size].reshape(param.shape)\n",
        "        )\n",
        "        prev_ind += flat_size"
      ]
    },
    {
      "cell_type": "markdown",
      "metadata": {
        "id": "fhcJu3UGpxPe"
      },
      "source": [
        "Compute cumulative reward just like you did in vanilla REINFORCE"
      ]
    },
    {
      "cell_type": "code",
      "execution_count": null,
      "metadata": {
        "id": "wzXkkF4-pxPe"
      },
      "outputs": [],
      "source": [
        "import scipy.signal\n",
        "\n",
        "\n",
        "def get_cumulative_returns(r, gamma=1):\n",
        "    \"\"\"\n",
        "    Computes cumulative discounted rewards given immediate rewards\n",
        "    G_i = r_i + gamma*r_{i+1} + gamma^2*r_{i+2} + ...\n",
        "    Also known as R(s,a).\n",
        "    \"\"\"\n",
        "    r = np.array(r)\n",
        "    assert r.ndim >= 1\n",
        "    return scipy.signal.lfilter([1], [1, -gamma], r[::-1], axis=0)[::-1]"
      ]
    },
    {
      "cell_type": "code",
      "execution_count": null,
      "metadata": {
        "colab": {
          "base_uri": "https://localhost:8080/"
        },
        "id": "CuXAtfvopxPf",
        "outputId": "66c7a3da-5fd0-492a-f31b-c898953b6972"
      },
      "outputs": [
        {
          "output_type": "execute_result",
          "data": {
            "text/plain": [
              "array([1.40049, 1.5561 , 1.729  , 0.81   , 0.9    , 1.     ])"
            ]
          },
          "metadata": {},
          "execution_count": 11
        }
      ],
      "source": [
        "# simple demo on rewards [0,0,1,0,0,1]\n",
        "get_cumulative_returns([0, 0, 1, 0, 0, 1], gamma=0.9)"
      ]
    },
    {
      "cell_type": "markdown",
      "metadata": {
        "id": "DVtVMOlypxPf"
      },
      "source": [
        "**Rollout**"
      ]
    },
    {
      "cell_type": "code",
      "execution_count": null,
      "metadata": {
        "id": "moDBCECCpxPf"
      },
      "outputs": [],
      "source": [
        "def rollout(env, agent, max_pathlength=2500, n_timesteps=50000):\n",
        "    \"\"\"\n",
        "    Generate rollouts for training.\n",
        "    :param: env - environment in which we will make actions to generate rollouts.\n",
        "    :param: act - the function that can return policy and action given observation.\n",
        "    :param: max_pathlength - maximum size of one path that we generate.\n",
        "    :param: n_timesteps - total sum of sizes of all pathes we generate.\n",
        "    \"\"\"\n",
        "    paths = []\n",
        "\n",
        "    total_timesteps = 0\n",
        "    while total_timesteps < n_timesteps:\n",
        "        obervations, actions, rewards, action_probs = [], [], [], []\n",
        "        obervation, _ = env.reset()\n",
        "        for _ in range(max_pathlength):\n",
        "            action, policy = agent.act(obervation)\n",
        "            obervations.append(obervation)\n",
        "            actions.append(action)\n",
        "            action_probs.append(policy)\n",
        "            obervation, reward, terminated, truncated, _ = env.step(action)\n",
        "            rewards.append(reward)\n",
        "            total_timesteps += 1\n",
        "            if terminated or truncated or total_timesteps >= n_timesteps:\n",
        "                path = {\n",
        "                    \"observations\": np.array(obervations),\n",
        "                    \"policy\": np.array(action_probs),\n",
        "                    \"actions\": np.array(actions),\n",
        "                    \"rewards\": np.array(rewards),\n",
        "                    \"cumulative_returns\": get_cumulative_returns(rewards),\n",
        "                }\n",
        "                paths.append(path)\n",
        "                break\n",
        "    return paths"
      ]
    },
    {
      "cell_type": "code",
      "execution_count": null,
      "metadata": {
        "colab": {
          "base_uri": "https://localhost:8080/"
        },
        "id": "X9dNDyJlpxPf",
        "outputId": "26962dcf-40d7-440d-c0bd-53cb71c815db"
      },
      "outputs": [
        {
          "output_type": "stream",
          "name": "stdout",
          "text": [
            "{'actions': array([2, 0, 1, 1, 2]),\n",
            " 'cumulative_returns': array([-5., -4., -3., -2., -1.]),\n",
            " 'observations': array([[ 9.9997956e-01, -6.3958843e-03,  9.9874842e-01,  5.0016087e-02,\n",
            "         3.9117727e-02,  1.0686488e-02],\n",
            "       [ 9.9994552e-01, -1.0438226e-02,  9.9673164e-01,  8.0784261e-02,\n",
            "        -7.7552170e-02,  2.9132867e-01],\n",
            "       [ 9.9995995e-01, -8.9487052e-03,  9.9566919e-01,  9.2967160e-02,\n",
            "         9.2216507e-02, -1.7032471e-01],\n",
            "       [ 9.9993604e-01,  1.1309773e-02,  9.9872971e-01,  5.0387941e-02,\n",
            "         1.0493503e-01, -2.4610253e-01],\n",
            "       [ 9.9952966e-01,  3.0666269e-02,  9.9999982e-01, -5.7601504e-04,\n",
            "         8.3192207e-02, -2.5200924e-01]], dtype=float32),\n",
            " 'policy': array([[0.36945704, 0.3153622 , 0.31518075],\n",
            "       [0.36919028, 0.31485322, 0.31595653],\n",
            "       [0.36867663, 0.31638652, 0.31493685],\n",
            "       [0.36825538, 0.31698284, 0.31476176],\n",
            "       [0.36742938, 0.3176967 , 0.314874  ]], dtype=float32),\n",
            " 'rewards': array([-1., -1., -1., -1., -1.])}\n",
            "It's ok\n"
          ]
        }
      ],
      "source": [
        "from pprint import pprint\n",
        "\n",
        "paths = rollout(env, agent, max_pathlength=5, n_timesteps=100)\n",
        "pprint(paths[-1])\n",
        "\n",
        "assert (paths[0]['policy'].shape == (5, n_actions))\n",
        "assert (paths[0]['cumulative_returns'].shape == (5,))\n",
        "assert (paths[0]['rewards'].shape == (5,))\n",
        "assert (paths[0]['observations'].shape == (5,) + observation_shape)\n",
        "assert (paths[0]['actions'].shape == (5,))\n",
        "\n",
        "print(\"It's ok\")"
      ]
    },
    {
      "cell_type": "markdown",
      "metadata": {
        "id": "mqNRnzEXpxPf"
      },
      "source": [
        "### Step 3: Auxiliary functions\n",
        "\n",
        "Now let's define the loss functions and something else for actual TRPO training."
      ]
    },
    {
      "cell_type": "markdown",
      "metadata": {
        "id": "8Q_TH3LppxPf"
      },
      "source": [
        "The surrogate reward should be:\n",
        "$$J_{surr}= {1 \\over N} \\sum\\limits_{i=1}^N \\frac{\\pi_{\\theta}(s_i, a_i)}{\\pi_{\\theta_{old}}(s_i, a_i)}A_{\\theta_{old}(s_i, a_i)}$$\n",
        "\n",
        "For simplicity, in this assignment we are going to use cumulative rewards instead of advantage:\n",
        "$$J'_{surr}= {1 \\over N} \\sum\\limits_{i=1}^N \\frac{\\pi_{\\theta}(s_i, a_i)}{\\pi_{\\theta_{old}}(s_i, a_i)}G_{\\theta_{old}(s_i, a_i)}$$\n",
        "\n",
        "Since we want to maximize the reward, we are going to minimize the corresponding surrogate loss:\n",
        "$$ L_{surr} = - J'_{surr} $$\n"
      ]
    },
    {
      "cell_type": "code",
      "execution_count": null,
      "metadata": {
        "id": "-I8Q04lApxPf"
      },
      "outputs": [],
      "source": [
        "def get_loss(agent, observations, actions, cumulative_returns, old_probs):\n",
        "    \"\"\"\n",
        "    Computes TRPO objective\n",
        "    :param: observations - batch of observations [timesteps x state_shape]\n",
        "    :param: actions - batch of actions [timesteps]\n",
        "    :param: cumulative_returns - batch of cumulative returns [timesteps]\n",
        "    :param: old_probs - batch of probabilities computed by old network [timesteps x num_actions]\n",
        "    :returns: scalar value of the objective function\n",
        "    \"\"\"\n",
        "    batch_size = observations.shape[0]\n",
        "    probs_all = agent.get_probs(observations)\n",
        "\n",
        "    probs_for_actions = probs_all[torch.arange(batch_size), actions]     # Probabilities for played actions for new policy\n",
        "    old_probs_for_actions = old_probs[torch.arange(batch_size), actions] # Probabilities for played actions for old policy\n",
        "\n",
        "    # Compute surrogate loss, aka importance-sampled policy gradient\n",
        "    loss = -torch.mean((probs_for_actions/old_probs_for_actions) * cumulative_returns)\n",
        "\n",
        "    assert loss.ndim == 0\n",
        "    return loss"
      ]
    },
    {
      "cell_type": "markdown",
      "metadata": {
        "id": "pcFoEcR2pxPf"
      },
      "source": [
        "We can ascend these gradients as long as our $\\pi_\\theta(a|s)$ satisfies the constraint\n",
        "$$\\mathbb{E}_{s,\\pi_{\\theta_{t}}} \\Big[ \\operatorname{KL} \\left( \\pi_{\\theta_{t}} (s) \\:\\|\\: \\pi_{\\theta_{t+1}} (s) \\right) \\Big] < \\alpha$$\n",
        "\n",
        "\n",
        "where\n",
        "\n",
        "$$\\operatorname{KL} \\left( p \\| q \\right) = \\mathbb{E}_p \\log \\left( \\frac p q \\right)$$"
      ]
    },
    {
      "cell_type": "code",
      "execution_count": null,
      "metadata": {
        "id": "AxulHC9EpxPf"
      },
      "outputs": [],
      "source": [
        "def get_kl(agent, observations, actions, cumulative_returns, old_probs):\n",
        "    \"\"\"\n",
        "    Computes KL-divergence between network policy and old policy\n",
        "    :param: observations - batch of observations [timesteps x state_shape]\n",
        "    :param: actions - batch of actions [timesteps]\n",
        "    :param: cumulative_returns - batch of cumulative returns [timesteps] (we don't need it actually)\n",
        "    :param: old_probs - batch of probabilities computed by old network [timesteps x num_actions]\n",
        "    :returns: scalar value of the KL-divergence\n",
        "    \"\"\"\n",
        "    batch_size = observations.shape[0]\n",
        "    log_probs_all = agent.get_log_probs(observations)\n",
        "    probs_all = torch.exp(log_probs_all)\n",
        "\n",
        "    # Compute Kullback-Leibler divergence (see formula above).\n",
        "    # Note: you need to sum KL and entropy over all actions, not just the ones agent took.\n",
        "    # You will also need to compute max KL over all timesteps.\n",
        "    old_log_probs_all = torch.log(old_probs + 1e-10)\n",
        "\n",
        "    kl = torch.sum(old_probs * (old_log_probs_all - log_probs_all)) / batch_size\n",
        "\n",
        "    assert kl.ndim == 0\n",
        "    assert (kl > -0.0001).all() and (kl < 10000).all()\n",
        "    return kl"
      ]
    },
    {
      "cell_type": "code",
      "execution_count": null,
      "metadata": {
        "id": "C6kfTHRTpxPf"
      },
      "outputs": [],
      "source": [
        "def get_entropy(agent, observations):\n",
        "    \"\"\"\n",
        "    Computes entropy of the network policy\n",
        "    :param: observations - batch of observations\n",
        "    :returns: scalar value of the entropy\n",
        "    \"\"\"\n",
        "\n",
        "    observations = torch.tensor(observations, dtype=torch.float32)\n",
        "\n",
        "    log_probs_all = agent.get_log_probs(observations)\n",
        "    probs_all = torch.exp(log_probs_all)\n",
        "\n",
        "    entropy = (-probs_all * log_probs_all).sum(dim=1).mean(dim=0)\n",
        "\n",
        "    assert entropy.ndim == 0\n",
        "    return entropy"
      ]
    },
    {
      "cell_type": "markdown",
      "metadata": {
        "id": "zSEib1CEpxPg"
      },
      "source": [
        "**Linear search**\n",
        "\n",
        "TRPO in its core involves ascending surrogate policy gradient constrained by KL divergence.\n",
        "\n",
        "In order to enforce this constraint, we're gonna use linesearch. You can find out more about it [here](https://en.wikipedia.org/wiki/Linear_search)"
      ]
    },
    {
      "cell_type": "code",
      "execution_count": null,
      "metadata": {
        "id": "bx5w868XpxPg"
      },
      "outputs": [],
      "source": [
        "def linesearch(f, x: torch.Tensor, fullstep: torch.Tensor, max_kl: float, max_backtracks: int = 10, backtrack_coef: float = 0.5):\n",
        "    \"\"\"\n",
        "    Linesearch finds the best parameters of neural networks in the direction of fullstep contrainted by KL divergence.\n",
        "    :param: f - function that returns loss, kl and arbitrary third component.\n",
        "    :param: x - old parameters of neural network.\n",
        "    :param: fullstep - direction in which we make search.\n",
        "    :param: max_kl - constraint of KL divergence.\n",
        "    :returns:\n",
        "    \"\"\"\n",
        "    loss, _, = f(x)\n",
        "    for stepfrac in backtrack_coef**np.arange(max_backtracks):\n",
        "        xnew = x + stepfrac * fullstep\n",
        "        new_loss, kl = f(xnew)\n",
        "        if kl <= max_kl and new_loss < loss:\n",
        "            x = xnew\n",
        "            loss = new_loss\n",
        "    return x"
      ]
    },
    {
      "cell_type": "markdown",
      "metadata": {
        "id": "CeOC8deApxPg"
      },
      "source": [
        "**Conjugate gradients**\n",
        "\n",
        "Since TRPO includes contrainted optimization, we will need to solve $A x = b$ using conjugate gradients.\n",
        "\n",
        "In general, CG is an algorithm that solves $A x = b$ where $A$ is positive-defined. $A$ is the Hessian matrix so $A$ is positive-defined. You can find out more about CG [here](https://en.wikipedia.org/wiki/Conjugate_gradient_method)."
      ]
    },
    {
      "cell_type": "code",
      "execution_count": null,
      "metadata": {
        "id": "kUAWj8uqpxPg"
      },
      "outputs": [],
      "source": [
        "def conjugate_gradient(f_Ax, b, cg_iters=10, residual_tol=1e-10):\n",
        "    \"\"\"\n",
        "    This method solves system of equation Ax=b using an iterative method called conjugate gradients\n",
        "    :f_Ax: function that returns Ax\n",
        "    :b: targets for Ax\n",
        "    :cg_iters: how many iterations this method should do\n",
        "    :residual_tol: epsilon for stability\n",
        "    \"\"\"\n",
        "    p = b.clone()\n",
        "    r = b.clone()\n",
        "    x = torch.zeros_like(b)\n",
        "    rdotr = torch.sum(r*r)\n",
        "    for i in range(cg_iters):\n",
        "        z = f_Ax(p)\n",
        "        v = rdotr / (torch.sum(p*z) + 1e-8)\n",
        "        x += v * p\n",
        "        r -= v * z\n",
        "        newrdotr = torch.sum(r*r)\n",
        "        mu = newrdotr / (rdotr + 1e-8)\n",
        "        p = r + mu * p\n",
        "        rdotr = newrdotr\n",
        "        if rdotr < residual_tol:\n",
        "            break\n",
        "    return x"
      ]
    },
    {
      "cell_type": "code",
      "execution_count": null,
      "metadata": {
        "colab": {
          "base_uri": "https://localhost:8080/"
        },
        "id": "iV2lIkN9pxPg",
        "outputId": "e8c52a16-cb98-4c60-a8fc-b3cccdf1ac19"
      },
      "outputs": [
        {
          "output_type": "stream",
          "name": "stdout",
          "text": [
            "[  15.96261321   93.43080764 -210.72815866  -76.21731331  156.40558195\n",
            "   47.77096671    9.03753413  -19.81761758]\n",
            "[  15.96526    93.4383   -210.72935   -76.2166    156.40456    47.76898\n",
            "    9.034162  -19.820616]\n"
          ]
        }
      ],
      "source": [
        "# This code validates conjugate gradients\n",
        "A = np.random.rand(8, 8)\n",
        "A = A.T @ A\n",
        "\n",
        "\n",
        "def f_Ax(x):\n",
        "    return torch.ravel(torch.tensor(A, dtype=torch.float32) @ x.reshape(-1, 1))\n",
        "\n",
        "\n",
        "b = np.random.rand(8)\n",
        "w = (np.linalg.inv(A.T @ A) @ A.T @ b.reshape(-1, 1)).reshape(-1)\n",
        "\n",
        "print(w)\n",
        "print(conjugate_gradient(f_Ax, torch.tensor(b, dtype=torch.float32)).numpy())"
      ]
    },
    {
      "cell_type": "markdown",
      "metadata": {
        "id": "AHtbjcK6pxPg"
      },
      "source": [
        "### Step 4: training\n",
        "In this section we construct the whole update step function."
      ]
    },
    {
      "cell_type": "code",
      "execution_count": null,
      "metadata": {
        "id": "OkWZzSrCpxPg"
      },
      "outputs": [],
      "source": [
        "def update_step(agent, observations, actions, cumulative_returns, old_probs, max_kl):\n",
        "    \"\"\"\n",
        "    This function does the TRPO update step\n",
        "    :param: observations - batch of observations\n",
        "    :param: actions - batch of actions\n",
        "    :param: cumulative_returns - batch of cumulative returns\n",
        "    :param: old_probs - batch of probabilities computed by old network\n",
        "    :param: max_kl - controls how big KL divergence may be between old and new policy every step.\n",
        "    :returns: KL between new and old policies and the value of the loss function.\n",
        "    \"\"\"\n",
        "\n",
        "    # Here we prepare the information\n",
        "    observations = torch.tensor(observations, dtype=torch.float32)\n",
        "    actions = torch.tensor(actions, dtype=torch.int64)\n",
        "    cumulative_returns = torch.tensor(cumulative_returns, dtype=torch.float32)\n",
        "    old_probs = torch.tensor(old_probs, dtype=torch.float32)\n",
        "\n",
        "    # Here we compute gradient of the loss function\n",
        "    loss = get_loss(agent, observations, actions, cumulative_returns, old_probs)\n",
        "    grads = torch.autograd.grad(loss, agent.parameters())\n",
        "    loss_grad = torch.cat([torch.ravel(grad.detach()) for grad in grads])\n",
        "\n",
        "    def Fvp(v):\n",
        "        # Here we compute Fx to do solve Fx = g using conjugate gradients\n",
        "        # We actually do here a couple of tricks to compute it efficiently\n",
        "\n",
        "        kl = get_kl(agent, observations, actions, cumulative_returns, old_probs)\n",
        "\n",
        "        grads = torch.autograd.grad(kl, agent.parameters(), create_graph=True)\n",
        "        flat_grad_kl = torch.cat([grad.reshape(-1) for grad in grads])\n",
        "\n",
        "        kl_v = (flat_grad_kl * v).sum()\n",
        "        grads = torch.autograd.grad(kl_v, agent.parameters())\n",
        "        flat_grad_grad_kl = torch.cat([torch.ravel(grad) for grad in grads]).detach()\n",
        "\n",
        "        return flat_grad_grad_kl + v * 0.1\n",
        "\n",
        "    # Here we solve Fx = g system using conjugate gradients\n",
        "    stepdir = conjugate_gradient(Fvp, -loss_grad, 10)\n",
        "\n",
        "    # Here we compute the initial vector to do linear search\n",
        "    shs = 0.5 * (stepdir * Fvp(stepdir)).sum(0, keepdim=True)\n",
        "\n",
        "    lm = torch.sqrt(shs / max_kl)\n",
        "    fullstep = stepdir / lm[0]\n",
        "\n",
        "    neggdotstepdir = (-loss_grad * stepdir).sum(0, keepdim=True)\n",
        "\n",
        "    # Here we get the start point\n",
        "    prev_params = get_flat_params_from(agent)\n",
        "\n",
        "    def get_loss_kl(params):\n",
        "        # Helper for linear search\n",
        "        set_flat_params_to(agent, params)\n",
        "        return [\n",
        "            get_loss(agent, observations, actions, cumulative_returns, old_probs),\n",
        "            get_kl(agent, observations, actions, cumulative_returns, old_probs),\n",
        "        ]\n",
        "\n",
        "    # Here we find our new parameters\n",
        "    new_params = linesearch(get_loss_kl, prev_params, fullstep, max_kl)\n",
        "\n",
        "    # And we set it to our network\n",
        "    set_flat_params_to(agent, new_params)\n",
        "\n",
        "    return get_loss_kl(new_params)"
      ]
    },
    {
      "cell_type": "markdown",
      "metadata": {
        "id": "yzcvwbDypxPg"
      },
      "source": [
        "### Step 5: Main TRPO loop\n",
        "\n",
        "Here we will train our network!"
      ]
    },
    {
      "cell_type": "code",
      "execution_count": null,
      "metadata": {
        "colab": {
          "base_uri": "https://localhost:8080/"
        },
        "id": "IhHATXr8pxPg",
        "outputId": "b263147a-a6c1-4ccd-a8bd-83b5c0e88b88"
      },
      "outputs": [
        {
          "output_type": "stream",
          "name": "stdout",
          "text": [
            "\n",
            "********** Iteration 1 ************\n",
            "Rollout\n",
            "Made rollout\n",
            "Total number of episodes:                 101\n",
            "Average sum of rewards per episode:       -495.029702970297\n",
            "Std of rewards per episode:               35.614396756752974\n",
            "Time elapsed:                             0.99 mins\n",
            "KL between old and new distribution:      0.009998112\n",
            "Entropy:                                  1.0763869\n",
            "Surrogate loss:                           248.89085\n",
            "\n",
            "********** Iteration 2 ************\n",
            "Rollout\n",
            "Made rollout\n",
            "Total number of episodes:                 203\n",
            "Average sum of rewards per episode:       -490.11764705882354\n",
            "Std of rewards per episode:               33.61759988331482\n",
            "Time elapsed:                             1.85 mins\n",
            "KL between old and new distribution:      0.009998314\n",
            "Entropy:                                  1.0539788\n",
            "Surrogate loss:                           245.84747\n",
            "\n",
            "********** Iteration 3 ************\n",
            "Rollout\n",
            "Made rollout\n",
            "Total number of episodes:                 330\n",
            "Average sum of rewards per episode:       -392.92913385826773\n",
            "Std of rewards per episode:               88.50527642105813\n",
            "Time elapsed:                             2.78 mins\n",
            "KL between old and new distribution:      0.009985611\n",
            "Entropy:                                  1.0131166\n",
            "Surrogate loss:                           205.71254\n",
            "\n",
            "********** Iteration 4 ************\n",
            "Rollout\n",
            "Made rollout\n",
            "Total number of episodes:                 491\n",
            "Average sum of rewards per episode:       -309.6149068322981\n",
            "Std of rewards per episode:               86.1751114875876\n",
            "Time elapsed:                             3.61 mins\n",
            "KL between old and new distribution:      0.009978607\n",
            "Entropy:                                  0.9575118\n",
            "Surrogate loss:                           165.96577\n",
            "\n",
            "********** Iteration 5 ************\n",
            "Rollout\n",
            "Made rollout\n",
            "Total number of episodes:                 714\n",
            "Average sum of rewards per episode:       -223.2421524663677\n",
            "Std of rewards per episode:               69.72414974203913\n",
            "Time elapsed:                             4.49 mins\n",
            "KL between old and new distribution:      0.009973288\n",
            "Entropy:                                  0.91708916\n",
            "Surrogate loss:                           121.86755\n",
            "\n",
            "********** Iteration 6 ************\n",
            "Rollout\n",
            "Made rollout\n",
            "Total number of episodes:                 986\n",
            "Average sum of rewards per episode:       -182.83823529411765\n",
            "Std of rewards per episode:               54.80952587185532\n",
            "Time elapsed:                             5.33 mins\n",
            "KL between old and new distribution:      0.009973659\n",
            "Entropy:                                  0.8684014\n",
            "Surrogate loss:                           99.11861\n",
            "\n",
            "********** Iteration 7 ************\n",
            "Rollout\n",
            "Made rollout\n",
            "Total number of episodes:                 1325\n",
            "Average sum of rewards per episode:       -146.49852507374632\n",
            "Std of rewards per episode:               43.665217024144006\n",
            "Time elapsed:                             6.27 mins\n",
            "KL between old and new distribution:      0.009996675\n",
            "Entropy:                                  0.9008638\n",
            "Surrogate loss:                           79.42974\n",
            "\n",
            "********** Iteration 8 ************\n",
            "Rollout\n",
            "Made rollout\n",
            "Total number of episodes:                 1624\n",
            "Average sum of rewards per episode:       -166.23411371237458\n",
            "Std of rewards per episode:               49.89539599943313\n",
            "Time elapsed:                             7.13 mins\n",
            "KL between old and new distribution:      0.009998765\n",
            "Entropy:                                  0.8450383\n",
            "Surrogate loss:                           90.02339\n",
            "\n",
            "********** Iteration 9 ************\n",
            "Rollout\n",
            "Made rollout\n",
            "Total number of episodes:                 1970\n",
            "Average sum of rewards per episode:       -143.51734104046244\n",
            "Std of rewards per episode:               43.288266039943935\n",
            "Time elapsed:                             7.98 mins\n",
            "KL between old and new distribution:      0.009986926\n",
            "Entropy:                                  0.7703212\n",
            "Surrogate loss:                           77.88691\n",
            "\n",
            "********** Iteration 10 ************\n",
            "Rollout\n",
            "Made rollout\n",
            "Total number of episodes:                 2364\n",
            "Average sum of rewards per episode:       -125.90609137055837\n",
            "Std of rewards per episode:               31.3763597752021\n",
            "Time elapsed:                             8.86 mins\n",
            "KL between old and new distribution:      0.009987005\n",
            "Entropy:                                  0.7077254\n",
            "Surrogate loss:                           66.50102\n",
            "\n",
            "********** Iteration 11 ************\n",
            "Rollout\n",
            "Made rollout\n",
            "Total number of episodes:                 2776\n",
            "Average sum of rewards per episode:       -120.36407766990291\n",
            "Std of rewards per episode:               36.339198537707176\n",
            "Time elapsed:                             9.71 mins\n",
            "KL between old and new distribution:      0.009982572\n",
            "Entropy:                                  0.6982377\n",
            "Surrogate loss:                           65.33407\n",
            "\n",
            "********** Iteration 12 ************\n",
            "Rollout\n",
            "Made rollout\n",
            "Total number of episodes:                 3189\n",
            "Average sum of rewards per episode:       -120.0774818401937\n",
            "Std of rewards per episode:               50.41281209854381\n",
            "Time elapsed:                             10.58 mins\n",
            "KL between old and new distribution:      0.009986368\n",
            "Entropy:                                  0.6682517\n",
            "Surrogate loss:                           70.166985\n",
            "\n",
            "********** Iteration 13 ************\n",
            "Rollout\n",
            "Made rollout\n",
            "Total number of episodes:                 3621\n",
            "Average sum of rewards per episode:       -114.74537037037037\n",
            "Std of rewards per episode:               36.93425060097224\n",
            "Time elapsed:                             11.92 mins\n",
            "KL between old and new distribution:      0.009982036\n",
            "Entropy:                                  0.6360919\n",
            "Surrogate loss:                           62.97732\n",
            "\n",
            "********** Iteration 14 ************\n",
            "Rollout\n",
            "Made rollout\n",
            "Total number of episodes:                 4069\n",
            "Average sum of rewards per episode:       -110.609375\n",
            "Std of rewards per episode:               24.886108459384165\n",
            "Time elapsed:                             12.79 mins\n",
            "KL between old and new distribution:      0.009990822\n",
            "Entropy:                                  0.5812124\n",
            "Surrogate loss:                           57.8231\n",
            "\n",
            "********** Iteration 15 ************\n",
            "Rollout\n",
            "Made rollout\n",
            "Total number of episodes:                 4525\n",
            "Average sum of rewards per episode:       -108.65570175438596\n",
            "Std of rewards per episode:               41.24060087428956\n",
            "Time elapsed:                             13.78 mins\n",
            "KL between old and new distribution:      0.009979473\n",
            "Entropy:                                  0.5513528\n",
            "Surrogate loss:                           61.826935\n",
            "\n",
            "********** Iteration 16 ************\n",
            "Rollout\n",
            "Made rollout\n",
            "Total number of episodes:                 5006\n",
            "Average sum of rewards per episode:       -102.95218295218295\n",
            "Std of rewards per episode:               32.56778953495523\n",
            "Time elapsed:                             14.81 mins\n",
            "KL between old and new distribution:      0.009961627\n",
            "Entropy:                                  0.5643005\n",
            "Surrogate loss:                           56.28213\n",
            "GAME OVER!\n"
          ]
        }
      ],
      "source": [
        "import time\n",
        "from itertools import count\n",
        "\n",
        "# TRPO hyperparameter; controls how big KL divergence may be between the old and the new policy at every step.\n",
        "max_kl = 0.01\n",
        "numeptotal = 0  # Number of episodes we have completed so far.\n",
        "\n",
        "start_time = time.time()\n",
        "\n",
        "for i in count(1):\n",
        "    print(\"\\n********** Iteration %i ************\" % i)\n",
        "\n",
        "    # Generating paths.\n",
        "    print(\"Rollout\")\n",
        "    paths = rollout(env, agent)\n",
        "    print(\"Made rollout\")\n",
        "\n",
        "    # Updating policy.\n",
        "    observations = np.concatenate([path[\"observations\"] for path in paths])\n",
        "    actions = np.concatenate([path[\"actions\"] for path in paths])\n",
        "    returns = np.concatenate([path[\"cumulative_returns\"] for path in paths])\n",
        "    old_probs = np.concatenate([path[\"policy\"] for path in paths])\n",
        "\n",
        "    loss, kl = update_step(agent, observations, actions, returns, old_probs, max_kl)\n",
        "\n",
        "    # Report current progress\n",
        "    episode_rewards = np.array([path[\"rewards\"].sum() for path in paths])\n",
        "\n",
        "    stats = {}\n",
        "    numeptotal += len(episode_rewards)\n",
        "    stats[\"Total number of episodes\"] = numeptotal\n",
        "    stats[\"Average sum of rewards per episode\"] = episode_rewards.mean()\n",
        "    stats[\"Std of rewards per episode\"] = episode_rewards.std()\n",
        "    stats[\"Time elapsed\"] = \"%.2f mins\" % ((time.time() - start_time)/60.)\n",
        "    stats[\"KL between old and new distribution\"] = kl.data.numpy()\n",
        "    stats[\"Entropy\"] = get_entropy(agent, observations).data.numpy()\n",
        "    stats[\"Surrogate loss\"] = loss.data.numpy()\n",
        "    for k, v in stats.items():\n",
        "        print(k + \": \" + \" \" * (40 - len(k)) + str(v))\n",
        "\n",
        "    if stats[\"Average sum of rewards per episode\"] >= -106.0:\n",
        "      print(\"GAME OVER!\")\n",
        "      break"
      ]
    },
    {
      "cell_type": "markdown",
      "metadata": {
        "id": "P6g8dnqEpxPg"
      },
      "source": [
        "# Homework option I: better sampling (10+pts)\n",
        "\n",
        "In this section, you're invited to implement a better rollout strategy called _vine_.\n",
        "\n",
        "![img](https://s17.postimg.cc/i90chxgvj/vine.png)\n",
        "\n",
        "In most gym environments, you can actually backtrack by using states. You can find a wrapper that saves/loads states in [the MCTS seminar](https://github.com/yandexdataschool/Practical_RL/blob/master/week10_planning/seminar_MCTS.ipynb).\n",
        "\n",
        "You can read more about TRPO in the [original paper](https://arxiv.org/abs/1502.05477) in section 5.2.\n",
        "\n",
        "The goal here is to implement such rollout policy (we recommend using tree data structure like in the seminar above).\n",
        "Then you can assign cumulative rewards similar to `get_cumulative_rewards`, but for a tree.\n",
        "\n",
        "__bonus task__ - parallelize samples using multiple cores"
      ]
    },
    {
      "cell_type": "markdown",
      "metadata": {
        "id": "aR9APtXHpxPh"
      },
      "source": [
        "# Homework option II (10+pts)\n",
        "\n",
        "Let's use TRPO to train evil robots! (pick any of two)\n",
        "* [MuJoCo robots](https://gymnasium.farama.org/environments/mujoco/#mujoco)\n",
        "* [Box2d robot](https://gymnasium.farama.org/environments/box2d/bipedal_walker/)\n",
        "\n",
        "The catch here is that those environments have continuous action spaces.\n",
        "\n",
        "Luckily, TRPO is a policy gradient method, so it's gonna work for any parametric $\\pi_\\theta(a|s)$. We recommend starting with gaussian policy:\n",
        "\n",
        "$$\\pi_\\theta(a|s) = N(\\mu_\\theta(s),\\sigma^2_\\theta(s)) = {1 \\over \\sqrt { 2 \\pi {\\sigma^2}_\\theta(s) } } e^{ (a -\n",
        "\\mu_\\theta(s))^2 \\over 2 {\\sigma^2}_\\theta(s) } $$\n",
        "\n",
        "In the $\\sqrt { 2 \\pi {\\sigma^2}_\\theta(s) }$ clause, $\\pi$ means ~3.1415926, not agent's policy.\n",
        "\n",
        "This essentially means that you will need two output layers:\n",
        "* $\\mu_\\theta(s)$, a dense layer with linear activation\n",
        "* ${\\sigma^2}_\\theta(s)$, a dense layer with activation tf.exp (to make it positive; like rho from bandits)\n",
        "\n",
        "For multidimensional actions, you can use a fully factorized gaussian (basically a vector of gaussians).\n",
        "\n",
        "__Bonus task__: compare the performance of the continuous action space method to action space discretization."
      ]
    },
    {
      "cell_type": "code",
      "source": [
        "env = gym.make(\"BipedalWalker-v3\", render_mode=\"rgb_array\")\n",
        "\n",
        "observation_shape = env.observation_space.shape\n",
        "action_shape = env.action_space.shape\n",
        "\n",
        "action_low = env.action_space.low\n",
        "action_high = env.action_space.high"
      ],
      "metadata": {
        "id": "xeltDMVVTBZ1"
      },
      "execution_count": null,
      "outputs": []
    },
    {
      "cell_type": "code",
      "source": [
        "class TRPOGaussianAgent(nn.Module):\n",
        "    def __init__(self, state_shape: Tuple[int],\n",
        "                       action_shape: tuple[int],\n",
        "                       low: np.ndarray | None = None,\n",
        "                       high: np.ndarray | None = None):\n",
        "        '''\n",
        "        Gaussian TRPO agent for continuous action space.\n",
        "        '''\n",
        "        super().__init__()\n",
        "\n",
        "        assert isinstance(state_shape, tuple)\n",
        "        assert len(state_shape) == 1\n",
        "        input_dim = state_shape[0]\n",
        "\n",
        "        assert isinstance(action_shape, tuple)\n",
        "        assert len(action_shape) == 1\n",
        "        action_dim = action_shape[0]\n",
        "\n",
        "        self.action_dim = action_shape[0]\n",
        "\n",
        "        if not low is None and not high is None:\n",
        "          assert (low < high).all()\n",
        "\n",
        "        self.low = low\n",
        "        self.high = high\n",
        "\n",
        "        # Prepare your model here.\n",
        "        self.net = nn.Sequential(\n",
        "            nn.Linear(input_dim, 512),\n",
        "            nn.ReLU(),\n",
        "            nn.Linear(512, 256),\n",
        "            nn.LeakyReLU(),\n",
        "            nn.Linear(256, 128),\n",
        "            nn.LeakyReLU()\n",
        "        )\n",
        "\n",
        "        self.net_mu = nn.Linear(128, action_dim)\n",
        "        self.net_sigma = nn.Linear(128, action_dim)\n",
        "\n",
        "    def forward(self, states: torch.Tensor):\n",
        "        \"\"\"\n",
        "        takes agent's observation, returns log-probabilities\n",
        "        :param states: a batch of states, shape = [batch_size, state_shape]\n",
        "        \"\"\"\n",
        "        output = self.net(states)\n",
        "        mu = self.net_mu(output)\n",
        "        sigma = torch.exp(self.net_sigma(output))\n",
        "        return mu, sigma\n",
        "\n",
        "    def get_log_probs(self, states: torch.Tensor, actions: torch.Tensor):\n",
        "        '''\n",
        "        Log-probs for training\n",
        "\n",
        "        :param states: a batch of states, shape = [batch_size, state_shape]\n",
        "        :param actions: a batch of actions, shape = [batch_size, action_shape]\n",
        "        '''\n",
        "        return torch.log(self.get_probs(states, actions))\n",
        "\n",
        "    def get_probs(self, states: torch.Tensor, actions: torch.Tensor):\n",
        "        '''\n",
        "        Probs for interaction, aka pi(a | s)\n",
        "        :param states: a batch of states, shape = [batch_size, state_shape]\n",
        "        :param actions: a batch of actions, shape = [batch_size, action_shape]\n",
        "        '''\n",
        "        mu, sigma = self.forward(states) # each has shape = [batch_size, action_shape]\n",
        "\n",
        "        probs = torch.exp(-(actions - mu) ** 2 / (2 * sigma ** 2))\n",
        "        probs = probs / (np.sqrt(2 * np.pi) * sigma)\n",
        "\n",
        "        return torch.prod(probs, dim=-1).view(-1, 1)\n",
        "\n",
        "    def act(self, obs: np.ndarray, sample: bool = True):\n",
        "        '''\n",
        "        Samples action vector from policy distribution (sample = True) or takes\n",
        "        most likely action (sample = False)\n",
        "\n",
        "        :param: obs - single observation vector\n",
        "        :param sample: if True, samples from policy, otherwise\n",
        "          takes most likely action\n",
        "        :returns: action vector shape of (action_dim,) and gaussian expected and\n",
        "          sigma vector\n",
        "        '''\n",
        "        state_t = torch.tensor(obs, dtype=torch.float)\n",
        "\n",
        "        mu, sigma = self.forward(state_t)\n",
        "        mu = mu.detach().numpy()\n",
        "        sigma = sigma.detach().numpy()\n",
        "\n",
        "        action = mu if sample else np.random.normal(loc=mu, scale=sigma)\n",
        "\n",
        "        if self.low is not None or self.high is not None:\n",
        "          action = np.clip(action, a_min=self.low, a_max=self.high)\n",
        "\n",
        "        return action, np.array([mu, sigma], dtype=np.double)\n",
        "\n",
        "\n",
        "agent = TRPOGaussianAgent(observation_shape, action_shape, action_low, action_high)"
      ],
      "metadata": {
        "id": "52YQs-3EBTKp"
      },
      "execution_count": null,
      "outputs": []
    },
    {
      "cell_type": "code",
      "source": [
        "def compute_loss(agent, agent_old, obs_t, act_t, cum_rewards):\n",
        "  \"\"\"\n",
        "  Computes objective loss.\n",
        "  :param agent: agent for continuous action space.\n",
        "  :param agent_old: agent with old parameters.\n",
        "  :param obs_t: observations [timesteps x state_shape]\n",
        "  :param act_t: actions [timesteps x action_shape]\n",
        "  :param cum_rewards: cumulative rewards [timesteps]\n",
        "  :return scalar value of objective function\n",
        "  \"\"\"\n",
        "  old_action_probs = agent_old.get_probs(obs_t, act_t)\n",
        "  action_probs = agent.get_probs(obs_t, act_t)\n",
        "\n",
        "  loss = -torch.mean((action_probs/old_action_probs) * cum_rewards)\n",
        "\n",
        "  assert loss.ndim == 0\n",
        "  return loss"
      ],
      "metadata": {
        "id": "lBlO8K11xrSu"
      },
      "execution_count": null,
      "outputs": []
    },
    {
      "cell_type": "markdown",
      "source": [
        "__KL-divergence between two multidimensional normal distributions__\n",
        "Let $p \\sim N(\\mu_1,\\ Σ_1)$ and $q \\sim N(\\mu_2,\\ Σ_2)$ - two $d$-dimensional normal distributions, then\n",
        "$$\n",
        "KL(p || q) = \\frac{1}{2}\n",
        "\\left[\n",
        "  \\log\\frac{|Σ_2|}{|Σ_1|} + tr\\{Σ_2^{-1}Σ_1\\} +\n",
        "  + (μ_2 - μ_1)^T Σ_2^{-1} (μ_2 - μ_1) - d\n",
        "\\right]\n",
        "$$\n",
        "\n",
        "More information about multivariate normal distribution you can find [here](https://en.wikipedia.org/wiki/Multivariate_normal_distribution#Kullback–Leibler_divergence).\n",
        "Formula output can be found [here](https://stats.stackexchange.com/questions/60680/kl-divergence-between-two-multivariate-gaussians)."
      ],
      "metadata": {
        "id": "nR5Qi1R0yUEo"
      }
    },
    {
      "cell_type": "code",
      "source": [
        "def compute_kl(agent, agent_old, obs_t, act_t, cum_rewards):\n",
        "  \"\"\"\n",
        "  Computes KL-divergence between policy and old policy.\n",
        "  :param agent: agent for continuous action space.\n",
        "  :param agent_old: agent with old parameters.\n",
        "  :param obs_t: observations [timesteps x state_shape]\n",
        "  :param act_t: actions [timesteps x action_shape]\n",
        "  :param cum_rewards: cumulative rewards [timesteps]\n",
        "  :return scalar value of objective function.\n",
        "  \"\"\"\n",
        "  batch_size = obs_t.shape[0]\n",
        "\n",
        "  mu, sigma = agent.forward(obs_t)\n",
        "  mu_old, sigma_old = agent_old.forward(obs_t)\n",
        "\n",
        "  kl = 0.5 * torch.log(torch.sum(sigma_old, dim=-1)/torch.sum(sigma, dim=-1) + 1e-10)\n",
        "  kl += 0.5 * torch.sum(sigma_old/sigma, dim=-1)\n",
        "  kl += 0.5 * torch.sum((1/sigma) * ((mu - mu_old) ** 2), dim=-1)\n",
        "  kl -= 0.5 * agent.action_dim\n",
        "  kl = torch.mean(kl)\n",
        "\n",
        "  assert kl.ndim == 0\n",
        "  return kl"
      ],
      "metadata": {
        "id": "8QnLoZibYgZq"
      },
      "execution_count": null,
      "outputs": []
    },
    {
      "cell_type": "markdown",
      "source": [
        "__Entropy of multivariate gaussian__\n",
        "\n",
        "If $p \\sim N(\\mu, \\Sigma)$ - $k$-dimensional normal distribution, then\n",
        "$$\n",
        "H(p) = \\frac{k}{2}\\log(2 \\pi e) +\n",
        "\\frac{1}{2}\\log\\left(\\det\\Sigma\\right)\n",
        "$$\n",
        "where $H(p)$ is entropy."
      ],
      "metadata": {
        "id": "IEaud6Qh1B9Q"
      }
    },
    {
      "cell_type": "code",
      "source": [
        "def compute_entropy(agent, obs):\n",
        "  \"\"\"\n",
        "  Computes entropy of the network policy\n",
        "  :param obs - batch of observations\n",
        "  :returns: scalar value of the entropy\n",
        "  \"\"\"\n",
        "  obs_t = torch.tensor(obs, dtype=torch.float)\n",
        "  k = agent.action_dim\n",
        "  mu, sigma = agent.forward(obs_t)\n",
        "\n",
        "  entropy = 0.5 * torch.log(torch.prod(sigma, dim=-1) + 1e-10).mean()\n",
        "  entropy += k/2 * np.log(2 * np.pi * np.e)\n",
        "\n",
        "  assert entropy.ndim == 0\n",
        "  return entropy"
      ],
      "metadata": {
        "id": "vel9Q3Pnxmyh"
      },
      "execution_count": null,
      "outputs": []
    },
    {
      "cell_type": "code",
      "source": [
        "def update(agent, agent_old, obs_t, act_t, cum_rewards, max_kl):\n",
        "  # Here we preparing the data\n",
        "  obs_t = torch.tensor(obs_t, dtype=torch.float32)\n",
        "  act_t = torch.tensor(act_t, dtype=torch.float32)\n",
        "  rew_t = torch.tensor(cum_rewards, dtype=torch.float32)\n",
        "\n",
        "  # Here we compute gradient of the loss function\n",
        "  loss = compute_loss(agent, agent_old, obs_t, act_t, rew_t)\n",
        "  grads = torch.autograd.grad(loss, agent.parameters())\n",
        "  loss_grad = torch.cat([torch.ravel(grad.detach()) for grad in grads])\n",
        "\n",
        "  def Fvp(v):\n",
        "    # Here we compute Fx to do solve Fx=g using conjugate gradients\n",
        "    kl = compute_kl(agent, agent_old, obs_t, act_t, rew_t)\n",
        "\n",
        "    grads = torch.autograd.grad(kl, agent.parameters(), create_graph=True)\n",
        "    flat_grad_kl = torch.cat([grad.reshape(-1) for grad in grads])\n",
        "\n",
        "    kl_v = (flat_grad_kl * v).sum()\n",
        "    grads = torch.autograd.grad(kl_v, agent.parameters())\n",
        "    flat_grad_grad_kl = torch.cat([torch.ravel(grad) for grad in grads]).detach()\n",
        "\n",
        "    return flat_grad_grad_kl + v * 0.1\n",
        "\n",
        "  # Here we solve Fx = g system using conjugate gradients\n",
        "  stepdir = conjugate_gradient(Fvp, -loss_grad, 15)\n",
        "\n",
        "  # Here we compute the initial vector to do linear search\n",
        "  shs = 0.5 * (stepdir * Fvp(stepdir)).sum(0, keepdim=True)\n",
        "\n",
        "  lm = torch.sqrt(shs / max_kl)\n",
        "  fullstep = stepdir / lm[0]\n",
        "\n",
        "  neggdotstepdir = (-loss_grad * stepdir).sum(0, keepdim=True)\n",
        "\n",
        "  # Here we get the start point\n",
        "  prev_params = get_flat_params_from(agent)\n",
        "\n",
        "  def compute_loss_kl(params):\n",
        "    # Helper for linear search\n",
        "    set_flat_params_to(agent, params)\n",
        "    return [\n",
        "        compute_loss(agent, agent_old, obs_t, act_t, rew_t),\n",
        "        compute_kl(agent, agent_old, obs_t, act_t, rew_t)\n",
        "    ]\n",
        "\n",
        "  # Here find new model parameters\n",
        "  new_params = linesearch(compute_loss_kl, prev_params, fullstep, max_kl)\n",
        "\n",
        "  # And we set it to our network\n",
        "  set_flat_params_to(agent, new_params)\n",
        "\n",
        "  return compute_loss_kl(new_params)"
      ],
      "metadata": {
        "id": "1EXEEBZwUfsw"
      },
      "execution_count": null,
      "outputs": []
    },
    {
      "cell_type": "code",
      "source": [
        "import time\n",
        "from itertools import count"
      ],
      "metadata": {
        "id": "4X0tFDVgV79O"
      },
      "execution_count": null,
      "outputs": []
    },
    {
      "cell_type": "code",
      "source": [
        "def train_agent(agent, env, max_epochs = None, max_reward = None,  max_kl = 0.01):\n",
        "  max_reward = +np.inf if max_reward is None else max_reward\n",
        "  train_range = count(1) if max_epochs is None else range(1, max_epochs + 1)\n",
        "\n",
        "  old_agent = TRPOGaussianAgent(observation_shape, action_shape, action_low, action_high)\n",
        "\n",
        "  start_time = time.time()\n",
        "  numeptotal = 0\n",
        "\n",
        "  for i in train_range:\n",
        "    old_agent.load_state_dict(agent.state_dict())\n",
        "\n",
        "    print(f\"**** Iteration {i} ****\")\n",
        "\n",
        "    # Generating paths.\n",
        "    print(\"Rollout\")\n",
        "    paths = rollout(env, agent, max_pathlength=100, n_timesteps=5000)\n",
        "    print(\"Made rollout\")\n",
        "\n",
        "    # Updating policy\n",
        "    obs = np.concatenate([path[\"observations\"] for path in paths])\n",
        "    act = np.concatenate([path[\"actions\"] for path in paths])\n",
        "    rew = np.concatenate([path[\"cumulative_returns\"] for path in paths])\n",
        "\n",
        "    old_agent.load_state_dict(agent.state_dict())\n",
        "\n",
        "    loss, kl = update(agent, old_agent, obs, act, rew, max_kl)\n",
        "\n",
        "    # Report current progress\n",
        "    episode_rewards = np.array([path[\"rewards\"].sum() for path in paths])\n",
        "\n",
        "    stats = {}\n",
        "    numeptotal += len(episode_rewards)\n",
        "    stats[\"Total number of episodes\"] = numeptotal\n",
        "    stats[\"Average sum of rewards per episode\"] = episode_rewards.mean()\n",
        "    stats[\"Std of rewards per episode\"] = episode_rewards.std()\n",
        "    stats[\"Time elapsed\"] = \"%.2f mins\" % ((time.time() - start_time)/60.)\n",
        "    stats[\"KL between old and new distribution\"] = kl.data.numpy()\n",
        "    stats[\"Entropy\"] = compute_entropy(agent, obs).data.numpy()\n",
        "    stats[\"Surrogate loss\"] = loss.data.numpy()\n",
        "    for k, v in stats.items():\n",
        "        print(k + \": \" + \" \" * (40 - len(k)) + str(v))\n",
        "\n",
        "    print()\n",
        "\n",
        "    if stats[\"Average sum of rewards per episode\"] >= max_reward:\n",
        "      print(\"YOU HAVE WON!\")\n",
        "      break"
      ],
      "metadata": {
        "id": "DpfZqdxJUq7J"
      },
      "execution_count": null,
      "outputs": []
    },
    {
      "cell_type": "code",
      "source": [
        "train_agent(agent, env, max_epochs=10, max_kl=0.01)"
      ],
      "metadata": {
        "colab": {
          "base_uri": "https://localhost:8080/"
        },
        "id": "doZHmd0YfO3j",
        "outputId": "2ed28387-5daf-4061-daec-0b7675356478"
      },
      "execution_count": null,
      "outputs": [
        {
          "output_type": "stream",
          "name": "stdout",
          "text": [
            "**** Iteration 1 ****\n",
            "Rollout\n",
            "Made rollout\n",
            "tensor(0.6041, grad_fn=<MulBackward0>)\n",
            "Total number of episodes:                 1\n",
            "Average sum of rewards per episode:       8.52899513354525\n",
            "Std of rewards per episode:               0.0\n",
            "Time elapsed:                             0.09 mins\n",
            "KL between old and new distribution:      0.009811507\n",
            "Entropy:                                  6.279851\n",
            "Surrogate loss:                           -9.333698\n",
            "\n",
            "**** Iteration 2 ****\n",
            "Rollout\n",
            "Made rollout\n",
            "tensor(0.5964, grad_fn=<MulBackward0>)\n",
            "Total number of episodes:                 2\n",
            "Average sum of rewards per episode:       8.61257849990452\n",
            "Std of rewards per episode:               0.0\n",
            "Time elapsed:                             0.17 mins\n",
            "KL between old and new distribution:      0.009811404\n",
            "Entropy:                                  6.2721586\n",
            "Surrogate loss:                           -9.49626\n",
            "\n",
            "**** Iteration 3 ****\n",
            "Rollout\n",
            "Made rollout\n",
            "tensor(0.5918, grad_fn=<MulBackward0>)\n",
            "Total number of episodes:                 3\n",
            "Average sum of rewards per episode:       8.352359212766094\n",
            "Std of rewards per episode:               0.0\n",
            "Time elapsed:                             0.25 mins\n",
            "KL between old and new distribution:      0.009806514\n",
            "Entropy:                                  6.267575\n",
            "Surrogate loss:                           -9.077201\n",
            "\n",
            "**** Iteration 4 ****\n",
            "Rollout\n",
            "Made rollout\n",
            "tensor(0.5823, grad_fn=<MulBackward0>)\n",
            "Total number of episodes:                 4\n",
            "Average sum of rewards per episode:       8.317341679464404\n",
            "Std of rewards per episode:               0.0\n",
            "Time elapsed:                             0.34 mins\n",
            "KL between old and new distribution:      0.009807055\n",
            "Entropy:                                  6.2581024\n",
            "Surrogate loss:                           -9.256898\n",
            "\n",
            "**** Iteration 5 ****\n",
            "Rollout\n",
            "Made rollout\n",
            "tensor(0.5733, grad_fn=<MulBackward0>)\n",
            "Total number of episodes:                 5\n",
            "Average sum of rewards per episode:       8.615738176370657\n",
            "Std of rewards per episode:               0.0\n",
            "Time elapsed:                             0.42 mins\n",
            "KL between old and new distribution:      0.009810822\n",
            "Entropy:                                  6.249051\n",
            "Surrogate loss:                           -9.436586\n",
            "\n",
            "**** Iteration 6 ****\n",
            "Rollout\n",
            "Made rollout\n",
            "tensor(0.5653, grad_fn=<MulBackward0>)\n",
            "Total number of episodes:                 6\n",
            "Average sum of rewards per episode:       8.626606847453862\n",
            "Std of rewards per episode:               0.0\n",
            "Time elapsed:                             0.50 mins\n",
            "KL between old and new distribution:      0.0098103145\n",
            "Entropy:                                  6.2410846\n",
            "Surrogate loss:                           -9.454331\n",
            "\n",
            "**** Iteration 7 ****\n",
            "Rollout\n",
            "Made rollout\n",
            "tensor(0.5605, grad_fn=<MulBackward0>)\n",
            "Total number of episodes:                 7\n",
            "Average sum of rewards per episode:       8.256272843814148\n",
            "Std of rewards per episode:               0.0\n",
            "Time elapsed:                             0.59 mins\n",
            "KL between old and new distribution:      0.0098052\n",
            "Entropy:                                  6.2362375\n",
            "Surrogate loss:                           -8.880149\n",
            "\n",
            "**** Iteration 8 ****\n",
            "Rollout\n",
            "Made rollout\n",
            "tensor(0.5514, grad_fn=<MulBackward0>)\n",
            "Total number of episodes:                 8\n",
            "Average sum of rewards per episode:       8.282800618817408\n",
            "Std of rewards per episode:               0.0\n",
            "Time elapsed:                             0.66 mins\n",
            "KL between old and new distribution:      0.009806018\n",
            "Entropy:                                  6.227133\n",
            "Surrogate loss:                           -9.294963\n",
            "\n",
            "**** Iteration 9 ****\n",
            "Rollout\n",
            "Made rollout\n",
            "tensor(0.5420, grad_fn=<MulBackward0>)\n",
            "Total number of episodes:                 9\n",
            "Average sum of rewards per episode:       8.578124104156467\n",
            "Std of rewards per episode:               0.0\n",
            "Time elapsed:                             0.76 mins\n",
            "KL between old and new distribution:      0.009809199\n",
            "Entropy:                                  6.217736\n",
            "Surrogate loss:                           -9.484495\n",
            "\n",
            "**** Iteration 10 ****\n",
            "Rollout\n",
            "Made rollout\n",
            "tensor(0.5347, grad_fn=<MulBackward0>)\n",
            "Total number of episodes:                 10\n",
            "Average sum of rewards per episode:       8.599883409494534\n",
            "Std of rewards per episode:               0.0\n",
            "Time elapsed:                             0.84 mins\n",
            "KL between old and new distribution:      0.00980725\n",
            "Entropy:                                  6.210445\n",
            "Surrogate loss:                           -9.574771\n",
            "\n"
          ]
        }
      ]
    },
    {
      "cell_type": "code",
      "source": [],
      "metadata": {
        "id": "DvJe3t093CyL"
      },
      "execution_count": null,
      "outputs": []
    }
  ],
  "metadata": {
    "language_info": {
      "name": "python"
    },
    "colab": {
      "provenance": []
    },
    "kernelspec": {
      "name": "python3",
      "display_name": "Python 3"
    }
  },
  "nbformat": 4,
  "nbformat_minor": 0
}